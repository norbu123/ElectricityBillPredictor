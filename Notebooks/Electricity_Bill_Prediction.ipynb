{
 "cells": [
  {
   "cell_type": "code",
   "execution_count": 133,
   "id": "addaa01d",
   "metadata": {},
   "outputs": [],
   "source": [
    "import pandas as pd\n",
    "import numpy as np\n",
    "import seaborn as sns\n",
    "import matplotlib.pyplot as plt"
   ]
  },
  {
   "cell_type": "code",
   "execution_count": 134,
   "id": "197f9c15",
   "metadata": {},
   "outputs": [
    {
     "name": "stderr",
     "output_type": "stream",
     "text": [
      "C:\\Users\\nobs\\AppData\\Local\\Temp\\ipykernel_4776\\4242064815.py:1: DtypeWarning: Columns (717,718) have mixed types. Specify dtype option on import or set low_memory=False.\n",
      "  df = pd.read_csv('recs2009_public.csv')\n"
     ]
    },
    {
     "data": {
      "text/html": [
       "<div>\n",
       "<style scoped>\n",
       "    .dataframe tbody tr th:only-of-type {\n",
       "        vertical-align: middle;\n",
       "    }\n",
       "\n",
       "    .dataframe tbody tr th {\n",
       "        vertical-align: top;\n",
       "    }\n",
       "\n",
       "    .dataframe thead th {\n",
       "        text-align: right;\n",
       "    }\n",
       "</style>\n",
       "<table border=\"1\" class=\"dataframe\">\n",
       "  <thead>\n",
       "    <tr style=\"text-align: right;\">\n",
       "      <th></th>\n",
       "      <th>DOEID</th>\n",
       "      <th>REGIONC</th>\n",
       "      <th>DIVISION</th>\n",
       "      <th>REPORTABLE_DOMAIN</th>\n",
       "      <th>TYPEHUQ</th>\n",
       "      <th>NWEIGHT</th>\n",
       "      <th>HDD65</th>\n",
       "      <th>CDD65</th>\n",
       "      <th>HDD30YR</th>\n",
       "      <th>CDD30YR</th>\n",
       "      <th>...</th>\n",
       "      <th>SCALEKER</th>\n",
       "      <th>IECC_Climate_Pub</th>\n",
       "      <th>HDD50</th>\n",
       "      <th>CDD80</th>\n",
       "      <th>GND_HDD65</th>\n",
       "      <th>WSF</th>\n",
       "      <th>OA_LAT</th>\n",
       "      <th>GWT</th>\n",
       "      <th>DesignDBT99</th>\n",
       "      <th>DesignDBT1</th>\n",
       "    </tr>\n",
       "  </thead>\n",
       "  <tbody>\n",
       "    <tr>\n",
       "      <th>0</th>\n",
       "      <td>1</td>\n",
       "      <td>2</td>\n",
       "      <td>4</td>\n",
       "      <td>12</td>\n",
       "      <td>2</td>\n",
       "      <td>2471.68</td>\n",
       "      <td>4742</td>\n",
       "      <td>1080</td>\n",
       "      <td>4953</td>\n",
       "      <td>1271</td>\n",
       "      <td>...</td>\n",
       "      <td>-2</td>\n",
       "      <td>4A</td>\n",
       "      <td>2117</td>\n",
       "      <td>56</td>\n",
       "      <td>4250</td>\n",
       "      <td>0.48</td>\n",
       "      <td>6</td>\n",
       "      <td>56</td>\n",
       "      <td>9</td>\n",
       "      <td>96</td>\n",
       "    </tr>\n",
       "    <tr>\n",
       "      <th>1</th>\n",
       "      <td>2</td>\n",
       "      <td>4</td>\n",
       "      <td>10</td>\n",
       "      <td>26</td>\n",
       "      <td>2</td>\n",
       "      <td>8599.17</td>\n",
       "      <td>2662</td>\n",
       "      <td>199</td>\n",
       "      <td>2688</td>\n",
       "      <td>143</td>\n",
       "      <td>...</td>\n",
       "      <td>-2</td>\n",
       "      <td>3C</td>\n",
       "      <td>62</td>\n",
       "      <td>26</td>\n",
       "      <td>2393</td>\n",
       "      <td>0.61</td>\n",
       "      <td>0</td>\n",
       "      <td>64</td>\n",
       "      <td>38</td>\n",
       "      <td>73</td>\n",
       "    </tr>\n",
       "    <tr>\n",
       "      <th>2</th>\n",
       "      <td>3</td>\n",
       "      <td>1</td>\n",
       "      <td>1</td>\n",
       "      <td>1</td>\n",
       "      <td>5</td>\n",
       "      <td>8969.92</td>\n",
       "      <td>6233</td>\n",
       "      <td>505</td>\n",
       "      <td>5741</td>\n",
       "      <td>829</td>\n",
       "      <td>...</td>\n",
       "      <td>-2</td>\n",
       "      <td>5A</td>\n",
       "      <td>2346</td>\n",
       "      <td>49</td>\n",
       "      <td>5654</td>\n",
       "      <td>0.48</td>\n",
       "      <td>3</td>\n",
       "      <td>52</td>\n",
       "      <td>12</td>\n",
       "      <td>88</td>\n",
       "    </tr>\n",
       "    <tr>\n",
       "      <th>3</th>\n",
       "      <td>4</td>\n",
       "      <td>2</td>\n",
       "      <td>3</td>\n",
       "      <td>7</td>\n",
       "      <td>2</td>\n",
       "      <td>18003.64</td>\n",
       "      <td>6034</td>\n",
       "      <td>672</td>\n",
       "      <td>5781</td>\n",
       "      <td>868</td>\n",
       "      <td>...</td>\n",
       "      <td>-2</td>\n",
       "      <td>5A</td>\n",
       "      <td>2746</td>\n",
       "      <td>0</td>\n",
       "      <td>4941</td>\n",
       "      <td>0.55</td>\n",
       "      <td>4</td>\n",
       "      <td>55</td>\n",
       "      <td>7</td>\n",
       "      <td>87</td>\n",
       "    </tr>\n",
       "    <tr>\n",
       "      <th>4</th>\n",
       "      <td>5</td>\n",
       "      <td>1</td>\n",
       "      <td>1</td>\n",
       "      <td>1</td>\n",
       "      <td>3</td>\n",
       "      <td>5999.61</td>\n",
       "      <td>5388</td>\n",
       "      <td>702</td>\n",
       "      <td>5313</td>\n",
       "      <td>797</td>\n",
       "      <td>...</td>\n",
       "      <td>-2</td>\n",
       "      <td>5A</td>\n",
       "      <td>2251</td>\n",
       "      <td>0</td>\n",
       "      <td>5426</td>\n",
       "      <td>0.61</td>\n",
       "      <td>4</td>\n",
       "      <td>50</td>\n",
       "      <td>13</td>\n",
       "      <td>90</td>\n",
       "    </tr>\n",
       "  </tbody>\n",
       "</table>\n",
       "<p>5 rows × 940 columns</p>\n",
       "</div>"
      ],
      "text/plain": [
       "   DOEID  REGIONC  DIVISION  REPORTABLE_DOMAIN  TYPEHUQ   NWEIGHT  HDD65  \\\n",
       "0      1        2         4                 12        2   2471.68   4742   \n",
       "1      2        4        10                 26        2   8599.17   2662   \n",
       "2      3        1         1                  1        5   8969.92   6233   \n",
       "3      4        2         3                  7        2  18003.64   6034   \n",
       "4      5        1         1                  1        3   5999.61   5388   \n",
       "\n",
       "   CDD65  HDD30YR  CDD30YR  ...  SCALEKER  IECC_Climate_Pub HDD50 CDD80  \\\n",
       "0   1080     4953     1271  ...        -2                4A  2117    56   \n",
       "1    199     2688      143  ...        -2                3C    62    26   \n",
       "2    505     5741      829  ...        -2                5A  2346    49   \n",
       "3    672     5781      868  ...        -2                5A  2746     0   \n",
       "4    702     5313      797  ...        -2                5A  2251     0   \n",
       "\n",
       "   GND_HDD65   WSF  OA_LAT  GWT  DesignDBT99  DesignDBT1  \n",
       "0       4250  0.48       6   56            9          96  \n",
       "1       2393  0.61       0   64           38          73  \n",
       "2       5654  0.48       3   52           12          88  \n",
       "3       4941  0.55       4   55            7          87  \n",
       "4       5426  0.61       4   50           13          90  \n",
       "\n",
       "[5 rows x 940 columns]"
      ]
     },
     "execution_count": 134,
     "metadata": {},
     "output_type": "execute_result"
    }
   ],
   "source": [
    "df = pd.read_csv('recs2009_public.csv')\n",
    "df.head()"
   ]
  },
  {
   "cell_type": "code",
   "execution_count": 135,
   "id": "5f1ac22d",
   "metadata": {},
   "outputs": [
    {
     "data": {
      "text/html": [
       "<div>\n",
       "<style scoped>\n",
       "    .dataframe tbody tr th:only-of-type {\n",
       "        vertical-align: middle;\n",
       "    }\n",
       "\n",
       "    .dataframe tbody tr th {\n",
       "        vertical-align: top;\n",
       "    }\n",
       "\n",
       "    .dataframe thead th {\n",
       "        text-align: right;\n",
       "    }\n",
       "</style>\n",
       "<table border=\"1\" class=\"dataframe\">\n",
       "  <thead>\n",
       "    <tr style=\"text-align: right;\">\n",
       "      <th></th>\n",
       "      <th>DOEID</th>\n",
       "      <th>REGIONC</th>\n",
       "      <th>DIVISION</th>\n",
       "      <th>REPORTABLE_DOMAIN</th>\n",
       "      <th>TYPEHUQ</th>\n",
       "      <th>NWEIGHT</th>\n",
       "      <th>HDD65</th>\n",
       "      <th>CDD65</th>\n",
       "      <th>HDD30YR</th>\n",
       "      <th>CDD30YR</th>\n",
       "      <th>...</th>\n",
       "      <th>SCALEKER</th>\n",
       "      <th>IECC_Climate_Pub</th>\n",
       "      <th>HDD50</th>\n",
       "      <th>CDD80</th>\n",
       "      <th>GND_HDD65</th>\n",
       "      <th>WSF</th>\n",
       "      <th>OA_LAT</th>\n",
       "      <th>GWT</th>\n",
       "      <th>DesignDBT99</th>\n",
       "      <th>DesignDBT1</th>\n",
       "    </tr>\n",
       "  </thead>\n",
       "  <tbody>\n",
       "    <tr>\n",
       "      <th>12078</th>\n",
       "      <td>12079</td>\n",
       "      <td>2</td>\n",
       "      <td>3</td>\n",
       "      <td>9</td>\n",
       "      <td>2</td>\n",
       "      <td>10219.80</td>\n",
       "      <td>7671</td>\n",
       "      <td>332</td>\n",
       "      <td>7784</td>\n",
       "      <td>451</td>\n",
       "      <td>...</td>\n",
       "      <td>-2</td>\n",
       "      <td>6A-6B</td>\n",
       "      <td>4289</td>\n",
       "      <td>39</td>\n",
       "      <td>7819</td>\n",
       "      <td>0.59</td>\n",
       "      <td>0</td>\n",
       "      <td>48</td>\n",
       "      <td>-3</td>\n",
       "      <td>84</td>\n",
       "    </tr>\n",
       "    <tr>\n",
       "      <th>12079</th>\n",
       "      <td>12080</td>\n",
       "      <td>3</td>\n",
       "      <td>7</td>\n",
       "      <td>21</td>\n",
       "      <td>4</td>\n",
       "      <td>8689.07</td>\n",
       "      <td>2085</td>\n",
       "      <td>2844</td>\n",
       "      <td>2520</td>\n",
       "      <td>2286</td>\n",
       "      <td>...</td>\n",
       "      <td>-2</td>\n",
       "      <td>3B-4B</td>\n",
       "      <td>360</td>\n",
       "      <td>393</td>\n",
       "      <td>1869</td>\n",
       "      <td>0.50</td>\n",
       "      <td>0</td>\n",
       "      <td>56</td>\n",
       "      <td>26</td>\n",
       "      <td>101</td>\n",
       "    </tr>\n",
       "    <tr>\n",
       "      <th>12080</th>\n",
       "      <td>12081</td>\n",
       "      <td>2</td>\n",
       "      <td>4</td>\n",
       "      <td>10</td>\n",
       "      <td>2</td>\n",
       "      <td>4697.21</td>\n",
       "      <td>7935</td>\n",
       "      <td>472</td>\n",
       "      <td>8074</td>\n",
       "      <td>600</td>\n",
       "      <td>...</td>\n",
       "      <td>-2</td>\n",
       "      <td>6A-6B</td>\n",
       "      <td>4494</td>\n",
       "      <td>22</td>\n",
       "      <td>8477</td>\n",
       "      <td>0.58</td>\n",
       "      <td>1</td>\n",
       "      <td>46</td>\n",
       "      <td>-9</td>\n",
       "      <td>89</td>\n",
       "    </tr>\n",
       "    <tr>\n",
       "      <th>12081</th>\n",
       "      <td>12082</td>\n",
       "      <td>4</td>\n",
       "      <td>8</td>\n",
       "      <td>23</td>\n",
       "      <td>2</td>\n",
       "      <td>13155.68</td>\n",
       "      <td>5834</td>\n",
       "      <td>770</td>\n",
       "      <td>5989</td>\n",
       "      <td>957</td>\n",
       "      <td>...</td>\n",
       "      <td>-2</td>\n",
       "      <td>5B-5C</td>\n",
       "      <td>2840</td>\n",
       "      <td>0</td>\n",
       "      <td>9010</td>\n",
       "      <td>0.54</td>\n",
       "      <td>1</td>\n",
       "      <td>53</td>\n",
       "      <td>13</td>\n",
       "      <td>93</td>\n",
       "    </tr>\n",
       "    <tr>\n",
       "      <th>12082</th>\n",
       "      <td>12083</td>\n",
       "      <td>4</td>\n",
       "      <td>10</td>\n",
       "      <td>26</td>\n",
       "      <td>2</td>\n",
       "      <td>7703.43</td>\n",
       "      <td>2806</td>\n",
       "      <td>124</td>\n",
       "      <td>2859</td>\n",
       "      <td>139</td>\n",
       "      <td>...</td>\n",
       "      <td>-2</td>\n",
       "      <td>3C</td>\n",
       "      <td>92</td>\n",
       "      <td>0</td>\n",
       "      <td>3048</td>\n",
       "      <td>0.53</td>\n",
       "      <td>0</td>\n",
       "      <td>60</td>\n",
       "      <td>44</td>\n",
       "      <td>75</td>\n",
       "    </tr>\n",
       "  </tbody>\n",
       "</table>\n",
       "<p>5 rows × 940 columns</p>\n",
       "</div>"
      ],
      "text/plain": [
       "       DOEID  REGIONC  DIVISION  REPORTABLE_DOMAIN  TYPEHUQ   NWEIGHT  HDD65  \\\n",
       "12078  12079        2         3                  9        2  10219.80   7671   \n",
       "12079  12080        3         7                 21        4   8689.07   2085   \n",
       "12080  12081        2         4                 10        2   4697.21   7935   \n",
       "12081  12082        4         8                 23        2  13155.68   5834   \n",
       "12082  12083        4        10                 26        2   7703.43   2806   \n",
       "\n",
       "       CDD65  HDD30YR  CDD30YR  ...  SCALEKER  IECC_Climate_Pub HDD50 CDD80  \\\n",
       "12078    332     7784      451  ...        -2             6A-6B  4289    39   \n",
       "12079   2844     2520     2286  ...        -2             3B-4B   360   393   \n",
       "12080    472     8074      600  ...        -2             6A-6B  4494    22   \n",
       "12081    770     5989      957  ...        -2             5B-5C  2840     0   \n",
       "12082    124     2859      139  ...        -2                3C    92     0   \n",
       "\n",
       "       GND_HDD65   WSF  OA_LAT  GWT  DesignDBT99  DesignDBT1  \n",
       "12078       7819  0.59       0   48           -3          84  \n",
       "12079       1869  0.50       0   56           26         101  \n",
       "12080       8477  0.58       1   46           -9          89  \n",
       "12081       9010  0.54       1   53           13          93  \n",
       "12082       3048  0.53       0   60           44          75  \n",
       "\n",
       "[5 rows x 940 columns]"
      ]
     },
     "execution_count": 135,
     "metadata": {},
     "output_type": "execute_result"
    }
   ],
   "source": [
    "df.tail()"
   ]
  },
  {
   "cell_type": "code",
   "execution_count": 136,
   "id": "46380013",
   "metadata": {},
   "outputs": [
    {
     "name": "stdout",
     "output_type": "stream",
     "text": [
      "<class 'pandas.core.frame.DataFrame'>\n",
      "RangeIndex: 12083 entries, 0 to 12082\n",
      "Columns: 940 entries, DOEID to DesignDBT1\n",
      "dtypes: float64(50), int64(885), object(5)\n",
      "memory usage: 86.4+ MB\n"
     ]
    }
   ],
   "source": [
    "df.info()"
   ]
  },
  {
   "cell_type": "code",
   "execution_count": 137,
   "id": "012cb013",
   "metadata": {},
   "outputs": [
    {
     "data": {
      "text/plain": [
       "(12083, 940)"
      ]
     },
     "execution_count": 137,
     "metadata": {},
     "output_type": "execute_result"
    }
   ],
   "source": [
    "df.shape"
   ]
  },
  {
   "cell_type": "code",
   "execution_count": 138,
   "id": "46535475",
   "metadata": {},
   "outputs": [
    {
     "data": {
      "text/plain": [
       "Index(['DOEID', 'REGIONC', 'DIVISION', 'REPORTABLE_DOMAIN', 'TYPEHUQ',\n",
       "       'NWEIGHT', 'HDD65', 'CDD65', 'HDD30YR', 'CDD30YR',\n",
       "       ...\n",
       "       'SCALEKER', 'IECC_Climate_Pub', 'HDD50', 'CDD80', 'GND_HDD65', 'WSF',\n",
       "       'OA_LAT', 'GWT', 'DesignDBT99', 'DesignDBT1'],\n",
       "      dtype='object', length=940)"
      ]
     },
     "execution_count": 138,
     "metadata": {},
     "output_type": "execute_result"
    }
   ],
   "source": [
    "df.columns"
   ]
  },
  {
   "cell_type": "code",
   "execution_count": 139,
   "id": "c8a8fe49",
   "metadata": {},
   "outputs": [
    {
     "data": {
      "text/plain": [
       "DOEID                  int64\n",
       "REGIONC                int64\n",
       "DIVISION               int64\n",
       "REPORTABLE_DOMAIN      int64\n",
       "TYPEHUQ                int64\n",
       "                      ...   \n",
       "WSF                  float64\n",
       "OA_LAT                 int64\n",
       "GWT                    int64\n",
       "DesignDBT99            int64\n",
       "DesignDBT1             int64\n",
       "Length: 940, dtype: object"
      ]
     },
     "execution_count": 139,
     "metadata": {},
     "output_type": "execute_result"
    }
   ],
   "source": [
    "df.dtypes"
   ]
  },
  {
   "cell_type": "code",
   "execution_count": 140,
   "id": "df233d81",
   "metadata": {},
   "outputs": [
    {
     "data": {
      "text/plain": [
       "DOEID                12083\n",
       "REGIONC              12083\n",
       "DIVISION             12083\n",
       "REPORTABLE_DOMAIN    12083\n",
       "TYPEHUQ              12083\n",
       "                     ...  \n",
       "WSF                  12083\n",
       "OA_LAT               12083\n",
       "GWT                  12083\n",
       "DesignDBT99          12083\n",
       "DesignDBT1           12083\n",
       "Length: 940, dtype: int64"
      ]
     },
     "execution_count": 140,
     "metadata": {},
     "output_type": "execute_result"
    }
   ],
   "source": [
    "df.count()"
   ]
  },
  {
   "cell_type": "code",
   "execution_count": 141,
   "id": "3cfd21cb",
   "metadata": {},
   "outputs": [
    {
     "data": {
      "text/html": [
       "<div>\n",
       "<style scoped>\n",
       "    .dataframe tbody tr th:only-of-type {\n",
       "        vertical-align: middle;\n",
       "    }\n",
       "\n",
       "    .dataframe tbody tr th {\n",
       "        vertical-align: top;\n",
       "    }\n",
       "\n",
       "    .dataframe thead th {\n",
       "        text-align: right;\n",
       "    }\n",
       "</style>\n",
       "<table border=\"1\" class=\"dataframe\">\n",
       "  <thead>\n",
       "    <tr style=\"text-align: right;\">\n",
       "      <th></th>\n",
       "      <th>HDD30YR</th>\n",
       "      <th>CDD30YR</th>\n",
       "      <th>TOTROOMS</th>\n",
       "      <th>HEATROOM</th>\n",
       "      <th>ACROOMS</th>\n",
       "      <th>KWH</th>\n",
       "      <th>DOLLAREL</th>\n",
       "    </tr>\n",
       "  </thead>\n",
       "  <tbody>\n",
       "    <tr>\n",
       "      <th>0</th>\n",
       "      <td>4953</td>\n",
       "      <td>1271</td>\n",
       "      <td>9</td>\n",
       "      <td>9</td>\n",
       "      <td>9</td>\n",
       "      <td>18466</td>\n",
       "      <td>1315</td>\n",
       "    </tr>\n",
       "    <tr>\n",
       "      <th>1</th>\n",
       "      <td>2688</td>\n",
       "      <td>143</td>\n",
       "      <td>4</td>\n",
       "      <td>4</td>\n",
       "      <td>4</td>\n",
       "      <td>5148</td>\n",
       "      <td>475</td>\n",
       "    </tr>\n",
       "    <tr>\n",
       "      <th>2</th>\n",
       "      <td>5741</td>\n",
       "      <td>829</td>\n",
       "      <td>2</td>\n",
       "      <td>2</td>\n",
       "      <td>-2</td>\n",
       "      <td>2218</td>\n",
       "      <td>588</td>\n",
       "    </tr>\n",
       "    <tr>\n",
       "      <th>3</th>\n",
       "      <td>5781</td>\n",
       "      <td>868</td>\n",
       "      <td>7</td>\n",
       "      <td>7</td>\n",
       "      <td>7</td>\n",
       "      <td>10015</td>\n",
       "      <td>952</td>\n",
       "    </tr>\n",
       "    <tr>\n",
       "      <th>4</th>\n",
       "      <td>5313</td>\n",
       "      <td>797</td>\n",
       "      <td>5</td>\n",
       "      <td>5</td>\n",
       "      <td>-2</td>\n",
       "      <td>2869</td>\n",
       "      <td>705</td>\n",
       "    </tr>\n",
       "  </tbody>\n",
       "</table>\n",
       "</div>"
      ],
      "text/plain": [
       "   HDD30YR  CDD30YR  TOTROOMS  HEATROOM  ACROOMS    KWH  DOLLAREL\n",
       "0     4953     1271         9         9        9  18466      1315\n",
       "1     2688      143         4         4        4   5148       475\n",
       "2     5741      829         2         2       -2   2218       588\n",
       "3     5781      868         7         7        7  10015       952\n",
       "4     5313      797         5         5       -2   2869       705"
      ]
     },
     "execution_count": 141,
     "metadata": {},
     "output_type": "execute_result"
    }
   ],
   "source": [
    "# Using DataFrame.copy() creating a new DaraFrame.\n",
    "new_df = df[['HDD30YR','CDD30YR','TOTROOMS','HEATROOM','ACROOMS','KWH','DOLLAREL']].copy()\n",
    "new_df.head()"
   ]
  },
  {
   "cell_type": "code",
   "execution_count": 142,
   "id": "2f8ed26d",
   "metadata": {},
   "outputs": [
    {
     "data": {
      "text/html": [
       "<div>\n",
       "<style scoped>\n",
       "    .dataframe tbody tr th:only-of-type {\n",
       "        vertical-align: middle;\n",
       "    }\n",
       "\n",
       "    .dataframe tbody tr th {\n",
       "        vertical-align: top;\n",
       "    }\n",
       "\n",
       "    .dataframe thead th {\n",
       "        text-align: right;\n",
       "    }\n",
       "</style>\n",
       "<table border=\"1\" class=\"dataframe\">\n",
       "  <thead>\n",
       "    <tr style=\"text-align: right;\">\n",
       "      <th></th>\n",
       "      <th>HDD30YR</th>\n",
       "      <th>CDD30YR</th>\n",
       "      <th>TOTROOMS</th>\n",
       "      <th>HEATROOM</th>\n",
       "      <th>ACROOMS</th>\n",
       "      <th>KWH</th>\n",
       "      <th>DOLLAREL</th>\n",
       "    </tr>\n",
       "  </thead>\n",
       "  <tbody>\n",
       "    <tr>\n",
       "      <th>12078</th>\n",
       "      <td>7784</td>\n",
       "      <td>451</td>\n",
       "      <td>6</td>\n",
       "      <td>5</td>\n",
       "      <td>5</td>\n",
       "      <td>7647</td>\n",
       "      <td>1020</td>\n",
       "    </tr>\n",
       "    <tr>\n",
       "      <th>12079</th>\n",
       "      <td>2520</td>\n",
       "      <td>2286</td>\n",
       "      <td>1</td>\n",
       "      <td>1</td>\n",
       "      <td>1</td>\n",
       "      <td>1813</td>\n",
       "      <td>260</td>\n",
       "    </tr>\n",
       "    <tr>\n",
       "      <th>12080</th>\n",
       "      <td>8074</td>\n",
       "      <td>600</td>\n",
       "      <td>8</td>\n",
       "      <td>8</td>\n",
       "      <td>8</td>\n",
       "      <td>9834</td>\n",
       "      <td>1133</td>\n",
       "    </tr>\n",
       "    <tr>\n",
       "      <th>12081</th>\n",
       "      <td>5989</td>\n",
       "      <td>957</td>\n",
       "      <td>5</td>\n",
       "      <td>5</td>\n",
       "      <td>3</td>\n",
       "      <td>4800</td>\n",
       "      <td>454</td>\n",
       "    </tr>\n",
       "    <tr>\n",
       "      <th>12082</th>\n",
       "      <td>2859</td>\n",
       "      <td>139</td>\n",
       "      <td>4</td>\n",
       "      <td>4</td>\n",
       "      <td>-2</td>\n",
       "      <td>1764</td>\n",
       "      <td>208</td>\n",
       "    </tr>\n",
       "  </tbody>\n",
       "</table>\n",
       "</div>"
      ],
      "text/plain": [
       "       HDD30YR  CDD30YR  TOTROOMS  HEATROOM  ACROOMS   KWH  DOLLAREL\n",
       "12078     7784      451         6         5        5  7647      1020\n",
       "12079     2520     2286         1         1        1  1813       260\n",
       "12080     8074      600         8         8        8  9834      1133\n",
       "12081     5989      957         5         5        3  4800       454\n",
       "12082     2859      139         4         4       -2  1764       208"
      ]
     },
     "execution_count": 142,
     "metadata": {},
     "output_type": "execute_result"
    }
   ],
   "source": [
    "new_df.tail()"
   ]
  },
  {
   "cell_type": "code",
   "execution_count": 143,
   "id": "42800510",
   "metadata": {},
   "outputs": [
    {
     "name": "stdout",
     "output_type": "stream",
     "text": [
      "<class 'pandas.core.frame.DataFrame'>\n",
      "RangeIndex: 12083 entries, 0 to 12082\n",
      "Data columns (total 7 columns):\n",
      " #   Column    Non-Null Count  Dtype\n",
      "---  ------    --------------  -----\n",
      " 0   HDD30YR   12083 non-null  int64\n",
      " 1   CDD30YR   12083 non-null  int64\n",
      " 2   TOTROOMS  12083 non-null  int64\n",
      " 3   HEATROOM  12083 non-null  int64\n",
      " 4   ACROOMS   12083 non-null  int64\n",
      " 5   KWH       12083 non-null  int64\n",
      " 6   DOLLAREL  12083 non-null  int64\n",
      "dtypes: int64(7)\n",
      "memory usage: 660.9 KB\n"
     ]
    }
   ],
   "source": [
    "new_df.info()"
   ]
  },
  {
   "cell_type": "code",
   "execution_count": 144,
   "id": "da0bbf69",
   "metadata": {},
   "outputs": [
    {
     "data": {
      "text/plain": [
       "(12083, 7)"
      ]
     },
     "execution_count": 144,
     "metadata": {},
     "output_type": "execute_result"
    }
   ],
   "source": [
    "new_df.shape"
   ]
  },
  {
   "cell_type": "code",
   "execution_count": 145,
   "id": "88cdfa7d",
   "metadata": {},
   "outputs": [
    {
     "data": {
      "text/plain": [
       "Index(['HDD30YR', 'CDD30YR', 'TOTROOMS', 'HEATROOM', 'ACROOMS', 'KWH',\n",
       "       'DOLLAREL'],\n",
       "      dtype='object')"
      ]
     },
     "execution_count": 145,
     "metadata": {},
     "output_type": "execute_result"
    }
   ],
   "source": [
    "new_df.columns"
   ]
  },
  {
   "cell_type": "code",
   "execution_count": 146,
   "id": "f2e26764",
   "metadata": {},
   "outputs": [
    {
     "data": {
      "text/plain": [
       "HDD30YR     int64\n",
       "CDD30YR     int64\n",
       "TOTROOMS    int64\n",
       "HEATROOM    int64\n",
       "ACROOMS     int64\n",
       "KWH         int64\n",
       "DOLLAREL    int64\n",
       "dtype: object"
      ]
     },
     "execution_count": 146,
     "metadata": {},
     "output_type": "execute_result"
    }
   ],
   "source": [
    "new_df.dtypes"
   ]
  },
  {
   "cell_type": "code",
   "execution_count": 147,
   "id": "5884c22c",
   "metadata": {},
   "outputs": [
    {
     "data": {
      "text/plain": [
       "HDD30YR     12083\n",
       "CDD30YR     12083\n",
       "TOTROOMS    12083\n",
       "HEATROOM    12083\n",
       "ACROOMS     12083\n",
       "KWH         12083\n",
       "DOLLAREL    12083\n",
       "dtype: int64"
      ]
     },
     "execution_count": 147,
     "metadata": {},
     "output_type": "execute_result"
    }
   ],
   "source": [
    "new_df.count()"
   ]
  },
  {
   "cell_type": "code",
   "execution_count": 148,
   "id": "90a94f55",
   "metadata": {},
   "outputs": [],
   "source": [
    "new_df.rename(columns={'DOLLAREL':'Total_Cost'},inplace=True)"
   ]
  },
  {
   "cell_type": "code",
   "execution_count": 149,
   "id": "bd741fef",
   "metadata": {},
   "outputs": [],
   "source": [
    "new_df.rename(columns={'KWH':'Electricity_usage'},inplace=True)"
   ]
  },
  {
   "cell_type": "code",
   "execution_count": 150,
   "id": "2ccfc853",
   "metadata": {},
   "outputs": [],
   "source": [
    "new_df.rename(columns={'HDD30YR':'Heating_days'},inplace=True)"
   ]
  },
  {
   "cell_type": "code",
   "execution_count": 151,
   "id": "48c90497",
   "metadata": {},
   "outputs": [],
   "source": [
    "new_df.rename(columns={'CDD30YR':'Cooling_days'},inplace=True)"
   ]
  },
  {
   "cell_type": "code",
   "execution_count": 152,
   "id": "27f9dff5",
   "metadata": {},
   "outputs": [
    {
     "data": {
      "text/html": [
       "<div>\n",
       "<style scoped>\n",
       "    .dataframe tbody tr th:only-of-type {\n",
       "        vertical-align: middle;\n",
       "    }\n",
       "\n",
       "    .dataframe tbody tr th {\n",
       "        vertical-align: top;\n",
       "    }\n",
       "\n",
       "    .dataframe thead th {\n",
       "        text-align: right;\n",
       "    }\n",
       "</style>\n",
       "<table border=\"1\" class=\"dataframe\">\n",
       "  <thead>\n",
       "    <tr style=\"text-align: right;\">\n",
       "      <th></th>\n",
       "      <th>Heating_days</th>\n",
       "      <th>Cooling_days</th>\n",
       "      <th>TOTROOMS</th>\n",
       "      <th>HEATROOM</th>\n",
       "      <th>ACROOMS</th>\n",
       "      <th>Electricity_usage</th>\n",
       "      <th>Total_Cost</th>\n",
       "    </tr>\n",
       "  </thead>\n",
       "  <tbody>\n",
       "    <tr>\n",
       "      <th>0</th>\n",
       "      <td>4953</td>\n",
       "      <td>1271</td>\n",
       "      <td>9</td>\n",
       "      <td>9</td>\n",
       "      <td>9</td>\n",
       "      <td>18466</td>\n",
       "      <td>1315</td>\n",
       "    </tr>\n",
       "    <tr>\n",
       "      <th>1</th>\n",
       "      <td>2688</td>\n",
       "      <td>143</td>\n",
       "      <td>4</td>\n",
       "      <td>4</td>\n",
       "      <td>4</td>\n",
       "      <td>5148</td>\n",
       "      <td>475</td>\n",
       "    </tr>\n",
       "    <tr>\n",
       "      <th>2</th>\n",
       "      <td>5741</td>\n",
       "      <td>829</td>\n",
       "      <td>2</td>\n",
       "      <td>2</td>\n",
       "      <td>-2</td>\n",
       "      <td>2218</td>\n",
       "      <td>588</td>\n",
       "    </tr>\n",
       "    <tr>\n",
       "      <th>3</th>\n",
       "      <td>5781</td>\n",
       "      <td>868</td>\n",
       "      <td>7</td>\n",
       "      <td>7</td>\n",
       "      <td>7</td>\n",
       "      <td>10015</td>\n",
       "      <td>952</td>\n",
       "    </tr>\n",
       "    <tr>\n",
       "      <th>4</th>\n",
       "      <td>5313</td>\n",
       "      <td>797</td>\n",
       "      <td>5</td>\n",
       "      <td>5</td>\n",
       "      <td>-2</td>\n",
       "      <td>2869</td>\n",
       "      <td>705</td>\n",
       "    </tr>\n",
       "  </tbody>\n",
       "</table>\n",
       "</div>"
      ],
      "text/plain": [
       "   Heating_days  Cooling_days  TOTROOMS  HEATROOM  ACROOMS  Electricity_usage  \\\n",
       "0          4953          1271         9         9        9              18466   \n",
       "1          2688           143         4         4        4               5148   \n",
       "2          5741           829         2         2       -2               2218   \n",
       "3          5781           868         7         7        7              10015   \n",
       "4          5313           797         5         5       -2               2869   \n",
       "\n",
       "   Total_Cost  \n",
       "0        1315  \n",
       "1         475  \n",
       "2         588  \n",
       "3         952  \n",
       "4         705  "
      ]
     },
     "execution_count": 152,
     "metadata": {},
     "output_type": "execute_result"
    }
   ],
   "source": [
    "new_df.head()"
   ]
  },
  {
   "cell_type": "code",
   "execution_count": 153,
   "id": "3c2457ea",
   "metadata": {},
   "outputs": [
    {
     "data": {
      "text/html": [
       "<div>\n",
       "<style scoped>\n",
       "    .dataframe tbody tr th:only-of-type {\n",
       "        vertical-align: middle;\n",
       "    }\n",
       "\n",
       "    .dataframe tbody tr th {\n",
       "        vertical-align: top;\n",
       "    }\n",
       "\n",
       "    .dataframe thead th {\n",
       "        text-align: right;\n",
       "    }\n",
       "</style>\n",
       "<table border=\"1\" class=\"dataframe\">\n",
       "  <thead>\n",
       "    <tr style=\"text-align: right;\">\n",
       "      <th></th>\n",
       "      <th>Heating_days</th>\n",
       "      <th>Cooling_days</th>\n",
       "      <th>TOTROOMS</th>\n",
       "      <th>HEATROOM</th>\n",
       "      <th>ACROOMS</th>\n",
       "      <th>Electricity_usage</th>\n",
       "      <th>Total_Cost</th>\n",
       "    </tr>\n",
       "  </thead>\n",
       "  <tbody>\n",
       "    <tr>\n",
       "      <th>12078</th>\n",
       "      <td>7784</td>\n",
       "      <td>451</td>\n",
       "      <td>6</td>\n",
       "      <td>5</td>\n",
       "      <td>5</td>\n",
       "      <td>7647</td>\n",
       "      <td>1020</td>\n",
       "    </tr>\n",
       "    <tr>\n",
       "      <th>12079</th>\n",
       "      <td>2520</td>\n",
       "      <td>2286</td>\n",
       "      <td>1</td>\n",
       "      <td>1</td>\n",
       "      <td>1</td>\n",
       "      <td>1813</td>\n",
       "      <td>260</td>\n",
       "    </tr>\n",
       "    <tr>\n",
       "      <th>12080</th>\n",
       "      <td>8074</td>\n",
       "      <td>600</td>\n",
       "      <td>8</td>\n",
       "      <td>8</td>\n",
       "      <td>8</td>\n",
       "      <td>9834</td>\n",
       "      <td>1133</td>\n",
       "    </tr>\n",
       "    <tr>\n",
       "      <th>12081</th>\n",
       "      <td>5989</td>\n",
       "      <td>957</td>\n",
       "      <td>5</td>\n",
       "      <td>5</td>\n",
       "      <td>3</td>\n",
       "      <td>4800</td>\n",
       "      <td>454</td>\n",
       "    </tr>\n",
       "    <tr>\n",
       "      <th>12082</th>\n",
       "      <td>2859</td>\n",
       "      <td>139</td>\n",
       "      <td>4</td>\n",
       "      <td>4</td>\n",
       "      <td>-2</td>\n",
       "      <td>1764</td>\n",
       "      <td>208</td>\n",
       "    </tr>\n",
       "  </tbody>\n",
       "</table>\n",
       "</div>"
      ],
      "text/plain": [
       "       Heating_days  Cooling_days  TOTROOMS  HEATROOM  ACROOMS  \\\n",
       "12078          7784           451         6         5        5   \n",
       "12079          2520          2286         1         1        1   \n",
       "12080          8074           600         8         8        8   \n",
       "12081          5989           957         5         5        3   \n",
       "12082          2859           139         4         4       -2   \n",
       "\n",
       "       Electricity_usage  Total_Cost  \n",
       "12078               7647        1020  \n",
       "12079               1813         260  \n",
       "12080               9834        1133  \n",
       "12081               4800         454  \n",
       "12082               1764         208  "
      ]
     },
     "execution_count": 153,
     "metadata": {},
     "output_type": "execute_result"
    }
   ],
   "source": [
    "new_df.tail()"
   ]
  },
  {
   "cell_type": "code",
   "execution_count": 154,
   "id": "c3e07115",
   "metadata": {},
   "outputs": [
    {
     "data": {
      "text/plain": [
       "Heating_days         0\n",
       "Cooling_days         0\n",
       "TOTROOMS             0\n",
       "HEATROOM             0\n",
       "ACROOMS              0\n",
       "Electricity_usage    0\n",
       "Total_Cost           0\n",
       "dtype: int64"
      ]
     },
     "execution_count": 154,
     "metadata": {},
     "output_type": "execute_result"
    }
   ],
   "source": [
    "new_df.isnull().sum()"
   ]
  },
  {
   "cell_type": "markdown",
   "id": "51b7b9da",
   "metadata": {},
   "source": [
    "# Feature engineering"
   ]
  },
  {
   "cell_type": "markdown",
   "id": "535f59bc",
   "metadata": {},
   "source": [
    "## Visualization"
   ]
  },
  {
   "cell_type": "code",
   "execution_count": 155,
   "id": "cdbde7d1",
   "metadata": {},
   "outputs": [
    {
     "data": {
      "image/png": "[encoded data removed]",
      "text/plain": [
       "<Figure size 432x288 with 1 Axes>"
      ]
     },
     "metadata": {
      "needs_background": "light"
     },
     "output_type": "display_data"
    }
   ],
   "source": [
    "# Total Electricity usage vs Total cost\n",
    "x = new_df.Total_Cost\n",
    "y = new_df.Electricity_usage\n",
    "plt.scatter(x,y)\n",
    "plt.xlabel('Total Electricity cost, in dollars')\n",
    "plt.ylabel('Total Electricity usage, in kilowatt-hours')\n",
    "plt.show()"
   ]
  },
  {
   "cell_type": "code",
   "execution_count": 156,
   "id": "e1fcc0f5",
   "metadata": {},
   "outputs": [
    {
     "data": {
      "image/png": "[encoded data removed]",
      "text/plain": [
       "<Figure size 432x288 with 1 Axes>"
      ]
     },
     "metadata": {
      "needs_background": "light"
     },
     "output_type": "display_data"
    }
   ],
   "source": [
    "# Total number of rooms in the housing unit vs Total cost\n",
    "x = new_df.Total_Cost\n",
    "y = new_df.TOTROOMS\n",
    "plt.scatter(x,y)\n",
    "plt.xlabel('Total Electricity cost, in dollars')\n",
    "plt.ylabel('Total number of rooms in the housing unit')\n",
    "plt.show()"
   ]
  },
  {
   "cell_type": "code",
   "execution_count": 157,
   "id": "1718d308",
   "metadata": {},
   "outputs": [
    {
     "data": {
      "image/png": "[encoded data removed]",
      "text/plain": [
       "<Figure size 432x288 with 1 Axes>"
      ]
     },
     "metadata": {
      "needs_background": "light"
     },
     "output_type": "display_data"
    }
   ],
   "source": [
    "# Number of rooms heated vs Total cost\n",
    "x = new_df.Total_Cost\n",
    "y = new_df.HEATROOM\n",
    "plt.scatter(x,y)\n",
    "plt.xlabel('Total Electricity cost, in dollars')\n",
    "plt.ylabel('Number of rooms heated')\n",
    "plt.show()"
   ]
  },
  {
   "cell_type": "code",
   "execution_count": 158,
   "id": "710e3cc2",
   "metadata": {},
   "outputs": [
    {
     "data": {
      "image/png": "[encoded data removed]",
      "text/plain": [
       "<Figure size 432x288 with 1 Axes>"
      ]
     },
     "metadata": {
      "needs_background": "light"
     },
     "output_type": "display_data"
    }
   ],
   "source": [
    "# Number of rooms cooled vs Total cost\n",
    "x = new_df.Total_Cost\n",
    "y = new_df.ACROOMS\n",
    "plt.scatter(x,y)\n",
    "plt.xlabel('Total Electricity cost, in dollars')\n",
    "plt.ylabel('Number of rooms cooled')\n",
    "plt.show()"
   ]
  },
  {
   "cell_type": "code",
   "execution_count": 159,
   "id": "3d1b6026",
   "metadata": {},
   "outputs": [
    {
     "data": {
      "image/png": "[encoded data removed]",
      "text/plain": [
       "<Figure size 432x288 with 1 Axes>"
      ]
     },
     "metadata": {
      "needs_background": "light"
     },
     "output_type": "display_data"
    }
   ],
   "source": [
    "# Number of heating days vs Total cost\n",
    "x = new_df.Total_Cost\n",
    "y = new_df.Heating_days\n",
    "plt.scatter(x,y)\n",
    "plt.xlabel('Total Electricity cost, in dollars')\n",
    "plt.ylabel('Number of heating days')\n",
    "plt.show()"
   ]
  },
  {
   "cell_type": "code",
   "execution_count": 160,
   "id": "f79975e1",
   "metadata": {},
   "outputs": [
    {
     "data": {
      "image/png": "[encoded data removed]",
      "text/plain": [
       "<Figure size 432x288 with 1 Axes>"
      ]
     },
     "metadata": {
      "needs_background": "light"
     },
     "output_type": "display_data"
    }
   ],
   "source": [
    "# Number of cooling days vs Total cost\n",
    "x = new_df.Total_Cost\n",
    "y = new_df.Cooling_days\n",
    "plt.scatter(x,y)\n",
    "plt.xlabel('Total Electricity cost, in dollars')\n",
    "plt.ylabel('Number of cooling days')\n",
    "plt.show()"
   ]
  },
  {
   "cell_type": "markdown",
   "id": "15140fd4",
   "metadata": {},
   "source": [
    "## Feature Engineering"
   ]
  },
  {
   "cell_type": "code",
   "execution_count": 161,
   "id": "0a0d04df",
   "metadata": {},
   "outputs": [
    {
     "data": {
      "image/png": "[encoded data removed]",
      "text/plain": [
       "<Figure size 432x288 with 1 Axes>"
      ]
     },
     "metadata": {
      "needs_background": "light"
     },
     "output_type": "display_data"
    }
   ],
   "source": [
    "#Finding and removing outliers for Total cost\n",
    "sns.boxplot(x=new_df['Total_Cost'])\n",
    "plt.show()"
   ]
  },
  {
   "cell_type": "code",
   "execution_count": 162,
   "id": "40f66a0f",
   "metadata": {},
   "outputs": [],
   "source": [
    "Q1 = new_df.Total_Cost.quantile(0.25)\n",
    "Q3 = new_df.Total_Cost.quantile(0.75)\n",
    "IQR = Q3 - Q1\n",
    "upperlimit = Q3 + (IQR * 1.5)\n",
    "lowerlimit = Q1 - (IQR * 1.5)"
   ]
  },
  {
   "cell_type": "code",
   "execution_count": 163,
   "id": "8637c67c",
   "metadata": {},
   "outputs": [
    {
     "data": {
      "text/plain": [
       "(11652, 7)"
      ]
     },
     "execution_count": 163,
     "metadata": {},
     "output_type": "execute_result"
    }
   ],
   "source": [
    "df1=new_df[(new_df.Total_Cost> lowerlimit)  & (new_df.Total_Cost < upperlimit)]\n",
    "df1.shape"
   ]
  },
  {
   "cell_type": "code",
   "execution_count": 164,
   "id": "fff620c5",
   "metadata": {},
   "outputs": [
    {
     "data": {
      "image/png": "[encoded data removed]",
      "text/plain": [
       "<Figure size 432x288 with 1 Axes>"
      ]
     },
     "metadata": {
      "needs_background": "light"
     },
     "output_type": "display_data"
    }
   ],
   "source": [
    "#Finding and removing outliers for number of rooms heated\n",
    "sns.boxplot(x=new_df['HEATROOM'])\n",
    "plt.show()"
   ]
  },
  {
   "cell_type": "code",
   "execution_count": 165,
   "id": "897dd992",
   "metadata": {},
   "outputs": [],
   "source": [
    "Q1 = df1.HEATROOM.quantile(0.25)\n",
    "Q3 = df1.HEATROOM.quantile(0.75)\n",
    "IQR = Q3 - Q1\n",
    "upperlimit = Q3 + (IQR * 1.5)\n",
    "lowerlimit = Q1 - (IQR * 1.5)"
   ]
  },
  {
   "cell_type": "code",
   "execution_count": 166,
   "id": "19e8c6ae",
   "metadata": {},
   "outputs": [
    {
     "data": {
      "text/plain": [
       "(11123, 7)"
      ]
     },
     "execution_count": 166,
     "metadata": {},
     "output_type": "execute_result"
    }
   ],
   "source": [
    "df2=df1[(df1.HEATROOM> lowerlimit)  & (df1.HEATROOM < upperlimit)]\n",
    "df2.shape"
   ]
  },
  {
   "cell_type": "code",
   "execution_count": 167,
   "id": "ad935e86",
   "metadata": {},
   "outputs": [
    {
     "data": {
      "image/png": "[encoded data removed]",
      "text/plain": [
       "<Figure size 432x288 with 1 Axes>"
      ]
     },
     "metadata": {
      "needs_background": "light"
     },
     "output_type": "display_data"
    }
   ],
   "source": [
    "#Finding and removing outliers for number of rooms cooled\n",
    "sns.boxplot(x=new_df['ACROOMS'])\n",
    "plt.show()"
   ]
  },
  {
   "cell_type": "code",
   "execution_count": 168,
   "id": "f8fd039f",
   "metadata": {},
   "outputs": [],
   "source": [
    "Q1 = df2.ACROOMS.quantile(0.25)\n",
    "Q3 = df2.ACROOMS.quantile(0.75)\n",
    "IQR = Q3 - Q1\n",
    "upperlimit = Q3 + (IQR * 1.5)\n",
    "lowerlimit = Q1 - (IQR * 1.5)"
   ]
  },
  {
   "cell_type": "code",
   "execution_count": 169,
   "id": "8fa3b3f9",
   "metadata": {},
   "outputs": [
    {
     "data": {
      "text/plain": [
       "(11123, 7)"
      ]
     },
     "execution_count": 169,
     "metadata": {},
     "output_type": "execute_result"
    }
   ],
   "source": [
    "df3=df2[(df2.ACROOMS> lowerlimit)  & (df2.ACROOMS < upperlimit)]\n",
    "df3.shape"
   ]
  },
  {
   "cell_type": "code",
   "execution_count": 170,
   "id": "c9d2730e",
   "metadata": {},
   "outputs": [
    {
     "data": {
      "image/png": "[encoded data removed]",
      "text/plain": [
       "<Figure size 432x288 with 1 Axes>"
      ]
     },
     "metadata": {
      "needs_background": "light"
     },
     "output_type": "display_data"
    }
   ],
   "source": [
    "#Finding and removing outliers for total elecricity usage\n",
    "sns.boxplot(x=new_df['Electricity_usage'])\n",
    "plt.show()"
   ]
  },
  {
   "cell_type": "code",
   "execution_count": 171,
   "id": "50d76433",
   "metadata": {},
   "outputs": [],
   "source": [
    "Q1 = df3.Electricity_usage.quantile(0.25)\n",
    "Q3 = df3.Electricity_usage.quantile(0.75)\n",
    "IQR = Q3 - Q1\n",
    "upperlimit = Q3 + (IQR * 1.5)\n",
    "lowerlimit = Q1 - (IQR * 1.5)"
   ]
  },
  {
   "cell_type": "code",
   "execution_count": 172,
   "id": "30bc987f",
   "metadata": {},
   "outputs": [
    {
     "data": {
      "text/plain": [
       "(10895, 7)"
      ]
     },
     "execution_count": 172,
     "metadata": {},
     "output_type": "execute_result"
    }
   ],
   "source": [
    "df4=df3[(df3.Electricity_usage> lowerlimit)  & (df3.Electricity_usage < upperlimit)]\n",
    "df4.shape"
   ]
  },
  {
   "cell_type": "code",
   "execution_count": 173,
   "id": "f4238610",
   "metadata": {},
   "outputs": [
    {
     "data": {
      "image/png": "[encoded data removed]",
      "text/plain": [
       "<Figure size 432x288 with 1 Axes>"
      ]
     },
     "metadata": {
      "needs_background": "light"
     },
     "output_type": "display_data"
    }
   ],
   "source": [
    "#Finding and removing outliers for number of heating days\n",
    "sns.boxplot(x=new_df['Heating_days'])\n",
    "plt.show()"
   ]
  },
  {
   "cell_type": "code",
   "execution_count": 174,
   "id": "101bb00e",
   "metadata": {},
   "outputs": [],
   "source": [
    "Q1 = df4.Electricity_usage.quantile(0.25)\n",
    "Q3 = df4.Electricity_usage.quantile(0.75)\n",
    "IQR = Q3 - Q1\n",
    "upperlimit = Q3 + (IQR * 1.5)\n",
    "lowerlimit = Q1 - (IQR * 1.5)"
   ]
  },
  {
   "cell_type": "code",
   "execution_count": 175,
   "id": "585fcfa8",
   "metadata": {},
   "outputs": [
    {
     "data": {
      "text/plain": [
       "(10838, 7)"
      ]
     },
     "execution_count": 175,
     "metadata": {},
     "output_type": "execute_result"
    }
   ],
   "source": [
    "df5=df4[(df4.Electricity_usage> lowerlimit)  & (df4.Electricity_usage < upperlimit)]\n",
    "df5.shape"
   ]
  },
  {
   "cell_type": "code",
   "execution_count": 176,
   "id": "1bcac3d1",
   "metadata": {},
   "outputs": [
    {
     "data": {
      "image/png": "[encoded data removed]",
      "text/plain": [
       "<Figure size 432x288 with 1 Axes>"
      ]
     },
     "metadata": {
      "needs_background": "light"
     },
     "output_type": "display_data"
    }
   ],
   "source": [
    "#Finding and removing outliers for number of cooling days\n",
    "sns.boxplot(x=new_df['Cooling_days'])\n",
    "plt.show()"
   ]
  },
  {
   "cell_type": "code",
   "execution_count": 177,
   "id": "43a5b852",
   "metadata": {},
   "outputs": [],
   "source": [
    "Q1 = df5.Electricity_usage.quantile(0.25)\n",
    "Q3 = df5.Electricity_usage.quantile(0.75)\n",
    "IQR = Q3 - Q1\n",
    "upperlimit = Q3 + (IQR * 1.5)\n",
    "lowerlimit = Q1 - (IQR * 1.5)"
   ]
  },
  {
   "cell_type": "code",
   "execution_count": 178,
   "id": "abffeaf9",
   "metadata": {},
   "outputs": [
    {
     "data": {
      "text/plain": [
       "(10826, 7)"
      ]
     },
     "execution_count": 178,
     "metadata": {},
     "output_type": "execute_result"
    }
   ],
   "source": [
    "df6=df5[(df5.Electricity_usage> lowerlimit)  & (df5.Electricity_usage < upperlimit)]\n",
    "df6.shape"
   ]
  },
  {
   "cell_type": "code",
   "execution_count": 179,
   "id": "394d362b",
   "metadata": {},
   "outputs": [
    {
     "data": {
      "text/html": [
       "<div>\n",
       "<style scoped>\n",
       "    .dataframe tbody tr th:only-of-type {\n",
       "        vertical-align: middle;\n",
       "    }\n",
       "\n",
       "    .dataframe tbody tr th {\n",
       "        vertical-align: top;\n",
       "    }\n",
       "\n",
       "    .dataframe thead th {\n",
       "        text-align: right;\n",
       "    }\n",
       "</style>\n",
       "<table border=\"1\" class=\"dataframe\">\n",
       "  <thead>\n",
       "    <tr style=\"text-align: right;\">\n",
       "      <th></th>\n",
       "      <th>Heating_days</th>\n",
       "      <th>Cooling_days</th>\n",
       "      <th>TOTROOMS</th>\n",
       "      <th>HEATROOM</th>\n",
       "      <th>ACROOMS</th>\n",
       "      <th>Electricity_usage</th>\n",
       "      <th>Total_Cost</th>\n",
       "    </tr>\n",
       "  </thead>\n",
       "  <tbody>\n",
       "    <tr>\n",
       "      <th>Heating_days</th>\n",
       "      <td>1.000000</td>\n",
       "      <td>-0.775498</td>\n",
       "      <td>0.112983</td>\n",
       "      <td>0.141324</td>\n",
       "      <td>-0.182436</td>\n",
       "      <td>-0.179100</td>\n",
       "      <td>-0.202337</td>\n",
       "    </tr>\n",
       "    <tr>\n",
       "      <th>Cooling_days</th>\n",
       "      <td>-0.775498</td>\n",
       "      <td>1.000000</td>\n",
       "      <td>-0.068926</td>\n",
       "      <td>-0.053627</td>\n",
       "      <td>0.314831</td>\n",
       "      <td>0.299745</td>\n",
       "      <td>0.303309</td>\n",
       "    </tr>\n",
       "    <tr>\n",
       "      <th>TOTROOMS</th>\n",
       "      <td>0.112983</td>\n",
       "      <td>-0.068926</td>\n",
       "      <td>1.000000</td>\n",
       "      <td>0.865708</td>\n",
       "      <td>0.430520</td>\n",
       "      <td>0.392254</td>\n",
       "      <td>0.384998</td>\n",
       "    </tr>\n",
       "    <tr>\n",
       "      <th>HEATROOM</th>\n",
       "      <td>0.141324</td>\n",
       "      <td>-0.053627</td>\n",
       "      <td>0.865708</td>\n",
       "      <td>1.000000</td>\n",
       "      <td>0.480324</td>\n",
       "      <td>0.372738</td>\n",
       "      <td>0.369927</td>\n",
       "    </tr>\n",
       "    <tr>\n",
       "      <th>ACROOMS</th>\n",
       "      <td>-0.182436</td>\n",
       "      <td>0.314831</td>\n",
       "      <td>0.430520</td>\n",
       "      <td>0.480324</td>\n",
       "      <td>1.000000</td>\n",
       "      <td>0.434937</td>\n",
       "      <td>0.347291</td>\n",
       "    </tr>\n",
       "    <tr>\n",
       "      <th>Electricity_usage</th>\n",
       "      <td>-0.179100</td>\n",
       "      <td>0.299745</td>\n",
       "      <td>0.392254</td>\n",
       "      <td>0.372738</td>\n",
       "      <td>0.434937</td>\n",
       "      <td>1.000000</td>\n",
       "      <td>0.855987</td>\n",
       "    </tr>\n",
       "    <tr>\n",
       "      <th>Total_Cost</th>\n",
       "      <td>-0.202337</td>\n",
       "      <td>0.303309</td>\n",
       "      <td>0.384998</td>\n",
       "      <td>0.369927</td>\n",
       "      <td>0.347291</td>\n",
       "      <td>0.855987</td>\n",
       "      <td>1.000000</td>\n",
       "    </tr>\n",
       "  </tbody>\n",
       "</table>\n",
       "</div>"
      ],
      "text/plain": [
       "                   Heating_days  Cooling_days  TOTROOMS  HEATROOM   ACROOMS  \\\n",
       "Heating_days           1.000000     -0.775498  0.112983  0.141324 -0.182436   \n",
       "Cooling_days          -0.775498      1.000000 -0.068926 -0.053627  0.314831   \n",
       "TOTROOMS               0.112983     -0.068926  1.000000  0.865708  0.430520   \n",
       "HEATROOM               0.141324     -0.053627  0.865708  1.000000  0.480324   \n",
       "ACROOMS               -0.182436      0.314831  0.430520  0.480324  1.000000   \n",
       "Electricity_usage     -0.179100      0.299745  0.392254  0.372738  0.434937   \n",
       "Total_Cost            -0.202337      0.303309  0.384998  0.369927  0.347291   \n",
       "\n",
       "                   Electricity_usage  Total_Cost  \n",
       "Heating_days               -0.179100   -0.202337  \n",
       "Cooling_days                0.299745    0.303309  \n",
       "TOTROOMS                    0.392254    0.384998  \n",
       "HEATROOM                    0.372738    0.369927  \n",
       "ACROOMS                     0.434937    0.347291  \n",
       "Electricity_usage           1.000000    0.855987  \n",
       "Total_Cost                  0.855987    1.000000  "
      ]
     },
     "execution_count": 179,
     "metadata": {},
     "output_type": "execute_result"
    }
   ],
   "source": [
    "df6.corr()"
   ]
  },
  {
   "cell_type": "code",
   "execution_count": 180,
   "id": "27c32011",
   "metadata": {},
   "outputs": [
    {
     "data": {
      "text/plain": [
       "<AxesSubplot:>"
      ]
     },
     "execution_count": 180,
     "metadata": {},
     "output_type": "execute_result"
    },
    {
     "data": {
      "image/png": "[encoded data removed]",
      "text/plain": [
       "<Figure size 432x288 with 2 Axes>"
      ]
     },
     "metadata": {
      "needs_background": "light"
     },
     "output_type": "display_data"
    }
   ],
   "source": [
    "sns.heatmap(df6.corr(), annot=True,cmap='YlGnBu')"
   ]
  },
  {
   "cell_type": "code",
   "execution_count": 181,
   "id": "36393af5",
   "metadata": {},
   "outputs": [
    {
     "data": {
      "text/html": [
       "<div>\n",
       "<style scoped>\n",
       "    .dataframe tbody tr th:only-of-type {\n",
       "        vertical-align: middle;\n",
       "    }\n",
       "\n",
       "    .dataframe tbody tr th {\n",
       "        vertical-align: top;\n",
       "    }\n",
       "\n",
       "    .dataframe thead th {\n",
       "        text-align: right;\n",
       "    }\n",
       "</style>\n",
       "<table border=\"1\" class=\"dataframe\">\n",
       "  <thead>\n",
       "    <tr style=\"text-align: right;\">\n",
       "      <th></th>\n",
       "      <th>Heating_days</th>\n",
       "      <th>Cooling_days</th>\n",
       "      <th>TOTROOMS</th>\n",
       "      <th>HEATROOM</th>\n",
       "      <th>ACROOMS</th>\n",
       "      <th>Electricity_usage</th>\n",
       "      <th>Total_Cost</th>\n",
       "    </tr>\n",
       "  </thead>\n",
       "  <tbody>\n",
       "    <tr>\n",
       "      <th>0</th>\n",
       "      <td>4953</td>\n",
       "      <td>1271</td>\n",
       "      <td>9</td>\n",
       "      <td>9</td>\n",
       "      <td>9</td>\n",
       "      <td>18466</td>\n",
       "      <td>1315</td>\n",
       "    </tr>\n",
       "    <tr>\n",
       "      <th>1</th>\n",
       "      <td>2688</td>\n",
       "      <td>143</td>\n",
       "      <td>4</td>\n",
       "      <td>4</td>\n",
       "      <td>4</td>\n",
       "      <td>5148</td>\n",
       "      <td>475</td>\n",
       "    </tr>\n",
       "    <tr>\n",
       "      <th>2</th>\n",
       "      <td>5741</td>\n",
       "      <td>829</td>\n",
       "      <td>2</td>\n",
       "      <td>2</td>\n",
       "      <td>-2</td>\n",
       "      <td>2218</td>\n",
       "      <td>588</td>\n",
       "    </tr>\n",
       "    <tr>\n",
       "      <th>3</th>\n",
       "      <td>5781</td>\n",
       "      <td>868</td>\n",
       "      <td>7</td>\n",
       "      <td>7</td>\n",
       "      <td>7</td>\n",
       "      <td>10015</td>\n",
       "      <td>952</td>\n",
       "    </tr>\n",
       "    <tr>\n",
       "      <th>4</th>\n",
       "      <td>5313</td>\n",
       "      <td>797</td>\n",
       "      <td>5</td>\n",
       "      <td>5</td>\n",
       "      <td>-2</td>\n",
       "      <td>2869</td>\n",
       "      <td>705</td>\n",
       "    </tr>\n",
       "    <tr>\n",
       "      <th>...</th>\n",
       "      <td>...</td>\n",
       "      <td>...</td>\n",
       "      <td>...</td>\n",
       "      <td>...</td>\n",
       "      <td>...</td>\n",
       "      <td>...</td>\n",
       "      <td>...</td>\n",
       "    </tr>\n",
       "    <tr>\n",
       "      <th>12078</th>\n",
       "      <td>7784</td>\n",
       "      <td>451</td>\n",
       "      <td>6</td>\n",
       "      <td>5</td>\n",
       "      <td>5</td>\n",
       "      <td>7647</td>\n",
       "      <td>1020</td>\n",
       "    </tr>\n",
       "    <tr>\n",
       "      <th>12079</th>\n",
       "      <td>2520</td>\n",
       "      <td>2286</td>\n",
       "      <td>1</td>\n",
       "      <td>1</td>\n",
       "      <td>1</td>\n",
       "      <td>1813</td>\n",
       "      <td>260</td>\n",
       "    </tr>\n",
       "    <tr>\n",
       "      <th>12080</th>\n",
       "      <td>8074</td>\n",
       "      <td>600</td>\n",
       "      <td>8</td>\n",
       "      <td>8</td>\n",
       "      <td>8</td>\n",
       "      <td>9834</td>\n",
       "      <td>1133</td>\n",
       "    </tr>\n",
       "    <tr>\n",
       "      <th>12081</th>\n",
       "      <td>5989</td>\n",
       "      <td>957</td>\n",
       "      <td>5</td>\n",
       "      <td>5</td>\n",
       "      <td>3</td>\n",
       "      <td>4800</td>\n",
       "      <td>454</td>\n",
       "    </tr>\n",
       "    <tr>\n",
       "      <th>12082</th>\n",
       "      <td>2859</td>\n",
       "      <td>139</td>\n",
       "      <td>4</td>\n",
       "      <td>4</td>\n",
       "      <td>-2</td>\n",
       "      <td>1764</td>\n",
       "      <td>208</td>\n",
       "    </tr>\n",
       "  </tbody>\n",
       "</table>\n",
       "<p>12083 rows × 7 columns</p>\n",
       "</div>"
      ],
      "text/plain": [
       "       Heating_days  Cooling_days  TOTROOMS  HEATROOM  ACROOMS  \\\n",
       "0              4953          1271         9         9        9   \n",
       "1              2688           143         4         4        4   \n",
       "2              5741           829         2         2       -2   \n",
       "3              5781           868         7         7        7   \n",
       "4              5313           797         5         5       -2   \n",
       "...             ...           ...       ...       ...      ...   \n",
       "12078          7784           451         6         5        5   \n",
       "12079          2520          2286         1         1        1   \n",
       "12080          8074           600         8         8        8   \n",
       "12081          5989           957         5         5        3   \n",
       "12082          2859           139         4         4       -2   \n",
       "\n",
       "       Electricity_usage  Total_Cost  \n",
       "0                  18466        1315  \n",
       "1                   5148         475  \n",
       "2                   2218         588  \n",
       "3                  10015         952  \n",
       "4                   2869         705  \n",
       "...                  ...         ...  \n",
       "12078               7647        1020  \n",
       "12079               1813         260  \n",
       "12080               9834        1133  \n",
       "12081               4800         454  \n",
       "12082               1764         208  \n",
       "\n",
       "[12083 rows x 7 columns]"
      ]
     },
     "execution_count": 181,
     "metadata": {},
     "output_type": "execute_result"
    }
   ],
   "source": [
    "new_df"
   ]
  },
  {
   "cell_type": "code",
   "execution_count": 182,
   "id": "6c416da2",
   "metadata": {},
   "outputs": [
    {
     "data": {
      "text/html": [
       "<div>\n",
       "<style scoped>\n",
       "    .dataframe tbody tr th:only-of-type {\n",
       "        vertical-align: middle;\n",
       "    }\n",
       "\n",
       "    .dataframe tbody tr th {\n",
       "        vertical-align: top;\n",
       "    }\n",
       "\n",
       "    .dataframe thead th {\n",
       "        text-align: right;\n",
       "    }\n",
       "</style>\n",
       "<table border=\"1\" class=\"dataframe\">\n",
       "  <thead>\n",
       "    <tr style=\"text-align: right;\">\n",
       "      <th></th>\n",
       "      <th>Heating_days</th>\n",
       "      <th>Cooling_days</th>\n",
       "      <th>TOTROOMS</th>\n",
       "      <th>HEATROOM</th>\n",
       "      <th>ACROOMS</th>\n",
       "      <th>Electricity_usage</th>\n",
       "      <th>Total_Cost</th>\n",
       "    </tr>\n",
       "  </thead>\n",
       "  <tbody>\n",
       "    <tr>\n",
       "      <th>0</th>\n",
       "      <td>0.303170</td>\n",
       "      <td>-0.121462</td>\n",
       "      <td>1.571326</td>\n",
       "      <td>1.713637</td>\n",
       "      <td>1.513458</td>\n",
       "      <td>1.504942</td>\n",
       "      <td>0.156760</td>\n",
       "    </tr>\n",
       "    <tr>\n",
       "      <th>1</th>\n",
       "      <td>-0.722173</td>\n",
       "      <td>-1.283872</td>\n",
       "      <td>-0.933928</td>\n",
       "      <td>-0.698825</td>\n",
       "      <td>0.292196</td>\n",
       "      <td>-0.898157</td>\n",
       "      <td>-1.155417</td>\n",
       "    </tr>\n",
       "    <tr>\n",
       "      <th>2</th>\n",
       "      <td>0.659889</td>\n",
       "      <td>-0.576945</td>\n",
       "      <td>-1.936029</td>\n",
       "      <td>-1.663810</td>\n",
       "      <td>-1.173319</td>\n",
       "      <td>-1.426847</td>\n",
       "      <td>-0.978898</td>\n",
       "    </tr>\n",
       "    <tr>\n",
       "      <th>3</th>\n",
       "      <td>0.677997</td>\n",
       "      <td>-0.536755</td>\n",
       "      <td>0.569224</td>\n",
       "      <td>0.748652</td>\n",
       "      <td>1.024953</td>\n",
       "      <td>-0.019956</td>\n",
       "      <td>-0.410288</td>\n",
       "    </tr>\n",
       "    <tr>\n",
       "      <th>4</th>\n",
       "      <td>0.466138</td>\n",
       "      <td>-0.609921</td>\n",
       "      <td>-0.432877</td>\n",
       "      <td>-0.216333</td>\n",
       "      <td>-1.173319</td>\n",
       "      <td>-1.309380</td>\n",
       "      <td>-0.796130</td>\n",
       "    </tr>\n",
       "  </tbody>\n",
       "</table>\n",
       "</div>"
      ],
      "text/plain": [
       "   Heating_days  Cooling_days  TOTROOMS  HEATROOM   ACROOMS  \\\n",
       "0      0.303170     -0.121462  1.571326  1.713637  1.513458   \n",
       "1     -0.722173     -1.283872 -0.933928 -0.698825  0.292196   \n",
       "2      0.659889     -0.576945 -1.936029 -1.663810 -1.173319   \n",
       "3      0.677997     -0.536755  0.569224  0.748652  1.024953   \n",
       "4      0.466138     -0.609921 -0.432877 -0.216333 -1.173319   \n",
       "\n",
       "   Electricity_usage  Total_Cost  \n",
       "0           1.504942    0.156760  \n",
       "1          -0.898157   -1.155417  \n",
       "2          -1.426847   -0.978898  \n",
       "3          -0.019956   -0.410288  \n",
       "4          -1.309380   -0.796130  "
      ]
     },
     "execution_count": 182,
     "metadata": {},
     "output_type": "execute_result"
    }
   ],
   "source": [
    "from sklearn.preprocessing import StandardScaler\n",
    "sc=StandardScaler()\n",
    "scaled_data=sc.fit_transform(df6)\n",
    "final_df=pd.DataFrame(data=scaled_data,columns=df6.columns)\n",
    "final_df.head()"
   ]
  },
  {
   "cell_type": "markdown",
   "id": "a246343a",
   "metadata": {},
   "source": [
    "## Train test split"
   ]
  },
  {
   "cell_type": "code",
   "execution_count": 183,
   "id": "69d74fba",
   "metadata": {},
   "outputs": [],
   "source": [
    "from sklearn.model_selection import train_test_split\n",
    "x = final_df[['Heating_days','Cooling_days','TOTROOMS','HEATROOM','ACROOMS','Electricity_usage']]\n",
    "y = final_df['Total_Cost']"
   ]
  },
  {
   "cell_type": "markdown",
   "id": "30f2ccf7",
   "metadata": {},
   "source": [
    "Splitting data"
   ]
  },
  {
   "cell_type": "code",
   "execution_count": 184,
   "id": "78d61532",
   "metadata": {},
   "outputs": [],
   "source": [
    "x_train, x_test, y_train, y_test = train_test_split(x,y,test_size=0.2,random_state=5)"
   ]
  },
  {
   "cell_type": "code",
   "execution_count": 185,
   "id": "21003270",
   "metadata": {},
   "outputs": [
    {
     "data": {
      "text/plain": [
       "8660"
      ]
     },
     "execution_count": 185,
     "metadata": {},
     "output_type": "execute_result"
    }
   ],
   "source": [
    "len(x_train)"
   ]
  },
  {
   "cell_type": "code",
   "execution_count": 186,
   "id": "f092ab5f",
   "metadata": {},
   "outputs": [
    {
     "data": {
      "text/plain": [
       "2166"
      ]
     },
     "execution_count": 186,
     "metadata": {},
     "output_type": "execute_result"
    }
   ],
   "source": [
    "len(x_test)"
   ]
  },
  {
   "cell_type": "code",
   "execution_count": 187,
   "id": "3c5b6c4c",
   "metadata": {},
   "outputs": [
    {
     "data": {
      "text/plain": [
       "2166"
      ]
     },
     "execution_count": 187,
     "metadata": {},
     "output_type": "execute_result"
    }
   ],
   "source": [
    "len(y_test)"
   ]
  },
  {
   "cell_type": "code",
   "execution_count": 188,
   "id": "f0bbd56c",
   "metadata": {},
   "outputs": [
    {
     "data": {
      "text/plain": [
       "8660"
      ]
     },
     "execution_count": 188,
     "metadata": {},
     "output_type": "execute_result"
    }
   ],
   "source": [
    "len(y_train)"
   ]
  },
  {
   "cell_type": "markdown",
   "id": "9e3fd54b",
   "metadata": {},
   "source": [
    "## Creating and Training model"
   ]
  },
  {
   "cell_type": "markdown",
   "id": "f878ee24",
   "metadata": {},
   "source": [
    "## Linear Regression"
   ]
  },
  {
   "cell_type": "code",
   "execution_count": 189,
   "id": "723d5797",
   "metadata": {},
   "outputs": [],
   "source": [
    "from sklearn.linear_model import LinearRegression"
   ]
  },
  {
   "cell_type": "code",
   "execution_count": 190,
   "id": "c0df879b",
   "metadata": {},
   "outputs": [
    {
     "data": {
      "text/html": [
       "<style>#sk-c640d175-ae07-40b5-bd21-232e0fa62569 {color: black;background-color: white;}#sk-c640d175-ae07-40b5-bd21-232e0fa62569 pre{padding: 0;}#sk-c640d175-ae07-40b5-bd21-232e0fa62569 div.sk-toggleable {background-color: white;}#sk-c640d175-ae07-40b5-bd21-232e0fa62569 label.sk-toggleable__label {cursor: pointer;display: block;width: 100%;margin-bottom: 0;padding: 0.3em;box-sizing: border-box;text-align: center;}#sk-c640d175-ae07-40b5-bd21-232e0fa62569 label.sk-toggleable__label-arrow:before {content: \"▸\";float: left;margin-right: 0.25em;color: #696969;}#sk-c640d175-ae07-40b5-bd21-232e0fa62569 label.sk-toggleable__label-arrow:hover:before {color: black;}#sk-c640d175-ae07-40b5-bd21-232e0fa62569 div.sk-estimator:hover label.sk-toggleable__label-arrow:before {color: black;}#sk-c640d175-ae07-40b5-bd21-232e0fa62569 div.sk-toggleable__content {max-height: 0;max-width: 0;overflow: hidden;text-align: left;background-color: #f0f8ff;}#sk-c640d175-ae07-40b5-bd21-232e0fa62569 div.sk-toggleable__content pre {margin: 0.2em;color: black;border-radius: 0.25em;background-color: #f0f8ff;}#sk-c640d175-ae07-40b5-bd21-232e0fa62569 input.sk-toggleable__control:checked~div.sk-toggleable__content {max-height: 200px;max-width: 100%;overflow: auto;}#sk-c640d175-ae07-40b5-bd21-232e0fa62569 input.sk-toggleable__control:checked~label.sk-toggleable__label-arrow:before {content: \"▾\";}#sk-c640d175-ae07-40b5-bd21-232e0fa62569 div.sk-estimator input.sk-toggleable__control:checked~label.sk-toggleable__label {background-color: #d4ebff;}#sk-c640d175-ae07-40b5-bd21-232e0fa62569 div.sk-label input.sk-toggleable__control:checked~label.sk-toggleable__label {background-color: #d4ebff;}#sk-c640d175-ae07-40b5-bd21-232e0fa62569 input.sk-hidden--visually {border: 0;clip: rect(1px 1px 1px 1px);clip: rect(1px, 1px, 1px, 1px);height: 1px;margin: -1px;overflow: hidden;padding: 0;position: absolute;width: 1px;}#sk-c640d175-ae07-40b5-bd21-232e0fa62569 div.sk-estimator {font-family: monospace;background-color: #f0f8ff;border: 1px dotted black;border-radius: 0.25em;box-sizing: border-box;margin-bottom: 0.5em;}#sk-c640d175-ae07-40b5-bd21-232e0fa62569 div.sk-estimator:hover {background-color: #d4ebff;}#sk-c640d175-ae07-40b5-bd21-232e0fa62569 div.sk-parallel-item::after {content: \"\";width: 100%;border-bottom: 1px solid gray;flex-grow: 1;}#sk-c640d175-ae07-40b5-bd21-232e0fa62569 div.sk-label:hover label.sk-toggleable__label {background-color: #d4ebff;}#sk-c640d175-ae07-40b5-bd21-232e0fa62569 div.sk-serial::before {content: \"\";position: absolute;border-left: 1px solid gray;box-sizing: border-box;top: 2em;bottom: 0;left: 50%;}#sk-c640d175-ae07-40b5-bd21-232e0fa62569 div.sk-serial {display: flex;flex-direction: column;align-items: center;background-color: white;padding-right: 0.2em;padding-left: 0.2em;}#sk-c640d175-ae07-40b5-bd21-232e0fa62569 div.sk-item {z-index: 1;}#sk-c640d175-ae07-40b5-bd21-232e0fa62569 div.sk-parallel {display: flex;align-items: stretch;justify-content: center;background-color: white;}#sk-c640d175-ae07-40b5-bd21-232e0fa62569 div.sk-parallel::before {content: \"\";position: absolute;border-left: 1px solid gray;box-sizing: border-box;top: 2em;bottom: 0;left: 50%;}#sk-c640d175-ae07-40b5-bd21-232e0fa62569 div.sk-parallel-item {display: flex;flex-direction: column;position: relative;background-color: white;}#sk-c640d175-ae07-40b5-bd21-232e0fa62569 div.sk-parallel-item:first-child::after {align-self: flex-end;width: 50%;}#sk-c640d175-ae07-40b5-bd21-232e0fa62569 div.sk-parallel-item:last-child::after {align-self: flex-start;width: 50%;}#sk-c640d175-ae07-40b5-bd21-232e0fa62569 div.sk-parallel-item:only-child::after {width: 0;}#sk-c640d175-ae07-40b5-bd21-232e0fa62569 div.sk-dashed-wrapped {border: 1px dashed gray;margin: 0 0.4em 0.5em 0.4em;box-sizing: border-box;padding-bottom: 0.4em;background-color: white;position: relative;}#sk-c640d175-ae07-40b5-bd21-232e0fa62569 div.sk-label label {font-family: monospace;font-weight: bold;background-color: white;display: inline-block;line-height: 1.2em;}#sk-c640d175-ae07-40b5-bd21-232e0fa62569 div.sk-label-container {position: relative;z-index: 2;text-align: center;}#sk-c640d175-ae07-40b5-bd21-232e0fa62569 div.sk-container {/* jupyter's `normalize.less` sets `[hidden] { display: none; }` but bootstrap.min.css set `[hidden] { display: none !important; }` so we also need the `!important` here to be able to override the default hidden behavior on the sphinx rendered scikit-learn.org. See: https://github.com/scikit-learn/scikit-learn/issues/21755 */display: inline-block !important;position: relative;}#sk-c640d175-ae07-40b5-bd21-232e0fa62569 div.sk-text-repr-fallback {display: none;}</style><div id=\"sk-c640d175-ae07-40b5-bd21-232e0fa62569\" class=\"sk-top-container\"><div class=\"sk-text-repr-fallback\"><pre>LinearRegression()</pre><b>Please rerun this cell to show the HTML repr or trust the notebook.</b></div><div class=\"sk-container\" hidden><div class=\"sk-item\"><div class=\"sk-estimator sk-toggleable\"><input class=\"sk-toggleable__control sk-hidden--visually\" id=\"b3bda2f5-b659-4d36-9d25-fc036f5cfbb1\" type=\"checkbox\" checked><label for=\"b3bda2f5-b659-4d36-9d25-fc036f5cfbb1\" class=\"sk-toggleable__label sk-toggleable__label-arrow\">LinearRegression</label><div class=\"sk-toggleable__content\"><pre>LinearRegression()</pre></div></div></div></div></div>"
      ],
      "text/plain": [
       "LinearRegression()"
      ]
     },
     "execution_count": 190,
     "metadata": {},
     "output_type": "execute_result"
    }
   ],
   "source": [
    "# create model\n",
    "lr = LinearRegression()\n",
    "\n",
    "# train the model by fitting data\n",
    "lr.fit(x_train, y_train)"
   ]
  },
  {
   "cell_type": "code",
   "execution_count": 191,
   "id": "fae7adf4",
   "metadata": {},
   "outputs": [
    {
     "data": {
      "text/plain": [
       "array([-0.87830923,  0.01590909, -0.31055973, ..., -0.94630868,\n",
       "       -0.86907222, -1.18616887])"
      ]
     },
     "execution_count": 191,
     "metadata": {},
     "output_type": "execute_result"
    }
   ],
   "source": [
    "#lets find predicted value for trained data\n",
    "y_pred = lr.predict(x_train)\n",
    "y_pred"
   ]
  },
  {
   "cell_type": "code",
   "execution_count": 192,
   "id": "9670b430",
   "metadata": {},
   "outputs": [
    {
     "data": {
      "text/plain": [
       "array([-0.32027633,  1.77173551,  0.6944149 , ..., -0.63319909,\n",
       "       -1.5100354 ,  0.17072054])"
      ]
     },
     "execution_count": 192,
     "metadata": {},
     "output_type": "execute_result"
    }
   ],
   "source": [
    "#lets find predicted value for test data\n",
    "y_pred_Test = lr.predict(x_test)\n",
    "y_pred_Test"
   ]
  },
  {
   "cell_type": "code",
   "execution_count": 193,
   "id": "12e882f7",
   "metadata": {},
   "outputs": [
    {
     "data": {
      "text/plain": [
       "0.6503834799149999"
      ]
     },
     "execution_count": 193,
     "metadata": {},
     "output_type": "execute_result"
    }
   ],
   "source": [
    "#Lets check model's r2 score for train data\n",
    "\n",
    "from sklearn.metrics import r2_score\n",
    "r2_score(y_pred, y_train)"
   ]
  },
  {
   "cell_type": "code",
   "execution_count": 194,
   "id": "805ee468",
   "metadata": {},
   "outputs": [
    {
     "data": {
      "text/plain": [
       "0.6884553476414739"
      ]
     },
     "execution_count": 194,
     "metadata": {},
     "output_type": "execute_result"
    }
   ],
   "source": [
    "#Lets check model's r2 score for test data\n",
    "\n",
    "r2_score(y_pred_Test, y_test)"
   ]
  },
  {
   "cell_type": "code",
   "execution_count": 195,
   "id": "14cfffc9",
   "metadata": {},
   "outputs": [
    {
     "data": {
      "text/plain": [
       "0.7663483029374843"
      ]
     },
     "execution_count": 195,
     "metadata": {},
     "output_type": "execute_result"
    }
   ],
   "source": [
    " lr.score(x_test, y_test)"
   ]
  },
  {
   "cell_type": "markdown",
   "id": "c560a51d",
   "metadata": {},
   "source": [
    "## KNN "
   ]
  },
  {
   "cell_type": "code",
   "execution_count": 196,
   "id": "1d61e37c",
   "metadata": {},
   "outputs": [],
   "source": [
    "from sklearn.neighbors import KNeighborsRegressor\n",
    "kmodel = KNeighborsRegressor(n_neighbors = 2)\n",
    "kmodel.fit(x_train, y_train)\n",
    "y_predict = kmodel.predict(x_test)"
   ]
  },
  {
   "cell_type": "code",
   "execution_count": 197,
   "id": "d91b3a1b",
   "metadata": {},
   "outputs": [
    {
     "data": {
      "text/plain": [
       "0.7428238450581844"
      ]
     },
     "execution_count": 197,
     "metadata": {},
     "output_type": "execute_result"
    }
   ],
   "source": [
    "r2_score_test = r2_score(y_test,y_predict)\n",
    "r2_score_test"
   ]
  },
  {
   "cell_type": "code",
   "execution_count": 198,
   "id": "68e6b943",
   "metadata": {},
   "outputs": [
    {
     "data": {
      "text/plain": [
       "0.9072785703370553"
      ]
     },
     "execution_count": 198,
     "metadata": {},
     "output_type": "execute_result"
    }
   ],
   "source": [
    "y_train_pred = kmodel.predict(x_train)\n",
    "r2_score_train = r2_score(y_train,y_train_pred)\n",
    "r2_score_train"
   ]
  },
  {
   "cell_type": "markdown",
   "id": "7453ccee",
   "metadata": {},
   "source": [
    "## Decision tree "
   ]
  },
  {
   "cell_type": "code",
   "execution_count": 199,
   "id": "cfcba0e6",
   "metadata": {},
   "outputs": [],
   "source": [
    "from sklearn.tree import DecisionTreeRegressor"
   ]
  },
  {
   "cell_type": "code",
   "execution_count": 200,
   "id": "407b328d",
   "metadata": {},
   "outputs": [
    {
     "data": {
      "text/html": [
       "<style>#sk-c0b0ecc3-25c9-45df-8231-bedea2905303 {color: black;background-color: white;}#sk-c0b0ecc3-25c9-45df-8231-bedea2905303 pre{padding: 0;}#sk-c0b0ecc3-25c9-45df-8231-bedea2905303 div.sk-toggleable {background-color: white;}#sk-c0b0ecc3-25c9-45df-8231-bedea2905303 label.sk-toggleable__label {cursor: pointer;display: block;width: 100%;margin-bottom: 0;padding: 0.3em;box-sizing: border-box;text-align: center;}#sk-c0b0ecc3-25c9-45df-8231-bedea2905303 label.sk-toggleable__label-arrow:before {content: \"▸\";float: left;margin-right: 0.25em;color: #696969;}#sk-c0b0ecc3-25c9-45df-8231-bedea2905303 label.sk-toggleable__label-arrow:hover:before {color: black;}#sk-c0b0ecc3-25c9-45df-8231-bedea2905303 div.sk-estimator:hover label.sk-toggleable__label-arrow:before {color: black;}#sk-c0b0ecc3-25c9-45df-8231-bedea2905303 div.sk-toggleable__content {max-height: 0;max-width: 0;overflow: hidden;text-align: left;background-color: #f0f8ff;}#sk-c0b0ecc3-25c9-45df-8231-bedea2905303 div.sk-toggleable__content pre {margin: 0.2em;color: black;border-radius: 0.25em;background-color: #f0f8ff;}#sk-c0b0ecc3-25c9-45df-8231-bedea2905303 input.sk-toggleable__control:checked~div.sk-toggleable__content {max-height: 200px;max-width: 100%;overflow: auto;}#sk-c0b0ecc3-25c9-45df-8231-bedea2905303 input.sk-toggleable__control:checked~label.sk-toggleable__label-arrow:before {content: \"▾\";}#sk-c0b0ecc3-25c9-45df-8231-bedea2905303 div.sk-estimator input.sk-toggleable__control:checked~label.sk-toggleable__label {background-color: #d4ebff;}#sk-c0b0ecc3-25c9-45df-8231-bedea2905303 div.sk-label input.sk-toggleable__control:checked~label.sk-toggleable__label {background-color: #d4ebff;}#sk-c0b0ecc3-25c9-45df-8231-bedea2905303 input.sk-hidden--visually {border: 0;clip: rect(1px 1px 1px 1px);clip: rect(1px, 1px, 1px, 1px);height: 1px;margin: -1px;overflow: hidden;padding: 0;position: absolute;width: 1px;}#sk-c0b0ecc3-25c9-45df-8231-bedea2905303 div.sk-estimator {font-family: monospace;background-color: #f0f8ff;border: 1px dotted black;border-radius: 0.25em;box-sizing: border-box;margin-bottom: 0.5em;}#sk-c0b0ecc3-25c9-45df-8231-bedea2905303 div.sk-estimator:hover {background-color: #d4ebff;}#sk-c0b0ecc3-25c9-45df-8231-bedea2905303 div.sk-parallel-item::after {content: \"\";width: 100%;border-bottom: 1px solid gray;flex-grow: 1;}#sk-c0b0ecc3-25c9-45df-8231-bedea2905303 div.sk-label:hover label.sk-toggleable__label {background-color: #d4ebff;}#sk-c0b0ecc3-25c9-45df-8231-bedea2905303 div.sk-serial::before {content: \"\";position: absolute;border-left: 1px solid gray;box-sizing: border-box;top: 2em;bottom: 0;left: 50%;}#sk-c0b0ecc3-25c9-45df-8231-bedea2905303 div.sk-serial {display: flex;flex-direction: column;align-items: center;background-color: white;padding-right: 0.2em;padding-left: 0.2em;}#sk-c0b0ecc3-25c9-45df-8231-bedea2905303 div.sk-item {z-index: 1;}#sk-c0b0ecc3-25c9-45df-8231-bedea2905303 div.sk-parallel {display: flex;align-items: stretch;justify-content: center;background-color: white;}#sk-c0b0ecc3-25c9-45df-8231-bedea2905303 div.sk-parallel::before {content: \"\";position: absolute;border-left: 1px solid gray;box-sizing: border-box;top: 2em;bottom: 0;left: 50%;}#sk-c0b0ecc3-25c9-45df-8231-bedea2905303 div.sk-parallel-item {display: flex;flex-direction: column;position: relative;background-color: white;}#sk-c0b0ecc3-25c9-45df-8231-bedea2905303 div.sk-parallel-item:first-child::after {align-self: flex-end;width: 50%;}#sk-c0b0ecc3-25c9-45df-8231-bedea2905303 div.sk-parallel-item:last-child::after {align-self: flex-start;width: 50%;}#sk-c0b0ecc3-25c9-45df-8231-bedea2905303 div.sk-parallel-item:only-child::after {width: 0;}#sk-c0b0ecc3-25c9-45df-8231-bedea2905303 div.sk-dashed-wrapped {border: 1px dashed gray;margin: 0 0.4em 0.5em 0.4em;box-sizing: border-box;padding-bottom: 0.4em;background-color: white;position: relative;}#sk-c0b0ecc3-25c9-45df-8231-bedea2905303 div.sk-label label {font-family: monospace;font-weight: bold;background-color: white;display: inline-block;line-height: 1.2em;}#sk-c0b0ecc3-25c9-45df-8231-bedea2905303 div.sk-label-container {position: relative;z-index: 2;text-align: center;}#sk-c0b0ecc3-25c9-45df-8231-bedea2905303 div.sk-container {/* jupyter's `normalize.less` sets `[hidden] { display: none; }` but bootstrap.min.css set `[hidden] { display: none !important; }` so we also need the `!important` here to be able to override the default hidden behavior on the sphinx rendered scikit-learn.org. See: https://github.com/scikit-learn/scikit-learn/issues/21755 */display: inline-block !important;position: relative;}#sk-c0b0ecc3-25c9-45df-8231-bedea2905303 div.sk-text-repr-fallback {display: none;}</style><div id=\"sk-c0b0ecc3-25c9-45df-8231-bedea2905303\" class=\"sk-top-container\"><div class=\"sk-text-repr-fallback\"><pre>DecisionTreeRegressor(criterion=&#x27;friedman_mse&#x27;, max_depth=5)</pre><b>Please rerun this cell to show the HTML repr or trust the notebook.</b></div><div class=\"sk-container\" hidden><div class=\"sk-item\"><div class=\"sk-estimator sk-toggleable\"><input class=\"sk-toggleable__control sk-hidden--visually\" id=\"4c6f75eb-faf1-4fef-90ac-625354e3a898\" type=\"checkbox\" checked><label for=\"4c6f75eb-faf1-4fef-90ac-625354e3a898\" class=\"sk-toggleable__label sk-toggleable__label-arrow\">DecisionTreeRegressor</label><div class=\"sk-toggleable__content\"><pre>DecisionTreeRegressor(criterion=&#x27;friedman_mse&#x27;, max_depth=5)</pre></div></div></div></div></div>"
      ],
      "text/plain": [
       "DecisionTreeRegressor(criterion='friedman_mse', max_depth=5)"
      ]
     },
     "execution_count": 200,
     "metadata": {},
     "output_type": "execute_result"
    }
   ],
   "source": [
    "dtr=DecisionTreeRegressor(criterion=\"friedman_mse\",max_depth=5)\n",
    "dtr.fit(x_train,y_train)"
   ]
  },
  {
   "cell_type": "code",
   "execution_count": 201,
   "id": "058f5c1e",
   "metadata": {},
   "outputs": [
    {
     "data": {
      "text/plain": [
       "0.7796377069103044"
      ]
     },
     "execution_count": 201,
     "metadata": {},
     "output_type": "execute_result"
    }
   ],
   "source": [
    "dtr.score(x_train, y_train)"
   ]
  },
  {
   "cell_type": "code",
   "execution_count": 202,
   "id": "24e7b1a8",
   "metadata": {},
   "outputs": [
    {
     "data": {
      "text/plain": [
       "0.785561936439096"
      ]
     },
     "execution_count": 202,
     "metadata": {},
     "output_type": "execute_result"
    }
   ],
   "source": [
    " dtr.score(x_test, y_test)"
   ]
  },
  {
   "cell_type": "markdown",
   "id": "8ca9225a",
   "metadata": {},
   "source": [
    "## Pipeline"
   ]
  },
  {
   "cell_type": "code",
   "execution_count": 203,
   "id": "6b6991e3",
   "metadata": {},
   "outputs": [
    {
     "name": "stderr",
     "output_type": "stream",
     "text": [
      "C:\\Users\\nobs\\AppData\\Local\\Temp\\ipykernel_4776\\3914752187.py:1: DtypeWarning: Columns (717,718) have mixed types. Specify dtype option on import or set low_memory=False.\n",
      "  data = pd.read_csv('recs2009_public.csv')\n"
     ]
    }
   ],
   "source": [
    "data = pd.read_csv('recs2009_public.csv')"
   ]
  },
  {
   "cell_type": "code",
   "execution_count": 204,
   "id": "182dbcba",
   "metadata": {},
   "outputs": [],
   "source": [
    "ndf = data[['HDD30YR','CDD30YR','TOTROOMS','HEATROOM','ACROOMS','KWH','DOLLAREL']].copy()"
   ]
  },
  {
   "cell_type": "code",
   "execution_count": 205,
   "id": "2916fb13",
   "metadata": {},
   "outputs": [],
   "source": [
    "ndf.rename(columns={'DOLLAREL':'Total_Cost'},inplace=True)"
   ]
  },
  {
   "cell_type": "code",
   "execution_count": 206,
   "id": "1d0e7695",
   "metadata": {},
   "outputs": [],
   "source": [
    "ndf.rename(columns={'KWH':'Electricity_usage'},inplace=True)"
   ]
  },
  {
   "cell_type": "code",
   "execution_count": 207,
   "id": "9e8b8ae3",
   "metadata": {},
   "outputs": [],
   "source": [
    "ndf.rename(columns={'HDD30YR':'Heating_days'},inplace=True)"
   ]
  },
  {
   "cell_type": "code",
   "execution_count": 208,
   "id": "d543d27a",
   "metadata": {},
   "outputs": [],
   "source": [
    "ndf.rename(columns={'CDD30YR':'Cooling_days'},inplace=True)"
   ]
  },
  {
   "cell_type": "code",
   "execution_count": 209,
   "id": "7505408b",
   "metadata": {},
   "outputs": [
    {
     "data": {
      "text/html": [
       "<div>\n",
       "<style scoped>\n",
       "    .dataframe tbody tr th:only-of-type {\n",
       "        vertical-align: middle;\n",
       "    }\n",
       "\n",
       "    .dataframe tbody tr th {\n",
       "        vertical-align: top;\n",
       "    }\n",
       "\n",
       "    .dataframe thead th {\n",
       "        text-align: right;\n",
       "    }\n",
       "</style>\n",
       "<table border=\"1\" class=\"dataframe\">\n",
       "  <thead>\n",
       "    <tr style=\"text-align: right;\">\n",
       "      <th></th>\n",
       "      <th>Heating_days</th>\n",
       "      <th>Cooling_days</th>\n",
       "      <th>TOTROOMS</th>\n",
       "      <th>HEATROOM</th>\n",
       "      <th>ACROOMS</th>\n",
       "      <th>Electricity_usage</th>\n",
       "      <th>Total_Cost</th>\n",
       "    </tr>\n",
       "  </thead>\n",
       "  <tbody>\n",
       "    <tr>\n",
       "      <th>0</th>\n",
       "      <td>4953</td>\n",
       "      <td>1271</td>\n",
       "      <td>9</td>\n",
       "      <td>9</td>\n",
       "      <td>9</td>\n",
       "      <td>18466</td>\n",
       "      <td>1315</td>\n",
       "    </tr>\n",
       "    <tr>\n",
       "      <th>1</th>\n",
       "      <td>2688</td>\n",
       "      <td>143</td>\n",
       "      <td>4</td>\n",
       "      <td>4</td>\n",
       "      <td>4</td>\n",
       "      <td>5148</td>\n",
       "      <td>475</td>\n",
       "    </tr>\n",
       "    <tr>\n",
       "      <th>2</th>\n",
       "      <td>5741</td>\n",
       "      <td>829</td>\n",
       "      <td>2</td>\n",
       "      <td>2</td>\n",
       "      <td>-2</td>\n",
       "      <td>2218</td>\n",
       "      <td>588</td>\n",
       "    </tr>\n",
       "    <tr>\n",
       "      <th>3</th>\n",
       "      <td>5781</td>\n",
       "      <td>868</td>\n",
       "      <td>7</td>\n",
       "      <td>7</td>\n",
       "      <td>7</td>\n",
       "      <td>10015</td>\n",
       "      <td>952</td>\n",
       "    </tr>\n",
       "    <tr>\n",
       "      <th>4</th>\n",
       "      <td>5313</td>\n",
       "      <td>797</td>\n",
       "      <td>5</td>\n",
       "      <td>5</td>\n",
       "      <td>-2</td>\n",
       "      <td>2869</td>\n",
       "      <td>705</td>\n",
       "    </tr>\n",
       "  </tbody>\n",
       "</table>\n",
       "</div>"
      ],
      "text/plain": [
       "   Heating_days  Cooling_days  TOTROOMS  HEATROOM  ACROOMS  Electricity_usage  \\\n",
       "0          4953          1271         9         9        9              18466   \n",
       "1          2688           143         4         4        4               5148   \n",
       "2          5741           829         2         2       -2               2218   \n",
       "3          5781           868         7         7        7              10015   \n",
       "4          5313           797         5         5       -2               2869   \n",
       "\n",
       "   Total_Cost  \n",
       "0        1315  \n",
       "1         475  \n",
       "2         588  \n",
       "3         952  \n",
       "4         705  "
      ]
     },
     "execution_count": 209,
     "metadata": {},
     "output_type": "execute_result"
    }
   ],
   "source": [
    "ndf.head()"
   ]
  },
  {
   "cell_type": "code",
   "execution_count": 210,
   "id": "764d69d0",
   "metadata": {},
   "outputs": [],
   "source": [
    "target = ndf['Total_Cost']"
   ]
  },
  {
   "cell_type": "code",
   "execution_count": 211,
   "id": "178a897f",
   "metadata": {},
   "outputs": [
    {
     "data": {
      "text/plain": [
       "Total_Cost    0\n",
       "dtype: int64"
      ]
     },
     "execution_count": 211,
     "metadata": {},
     "output_type": "execute_result"
    }
   ],
   "source": [
    "target = pd.DataFrame(target, columns = ['Total_Cost'])\n",
    "target.isna().sum()"
   ]
  },
  {
   "cell_type": "code",
   "execution_count": 212,
   "id": "414e70c0",
   "metadata": {},
   "outputs": [
    {
     "data": {
      "text/html": [
       "<div>\n",
       "<style scoped>\n",
       "    .dataframe tbody tr th:only-of-type {\n",
       "        vertical-align: middle;\n",
       "    }\n",
       "\n",
       "    .dataframe tbody tr th {\n",
       "        vertical-align: top;\n",
       "    }\n",
       "\n",
       "    .dataframe thead th {\n",
       "        text-align: right;\n",
       "    }\n",
       "</style>\n",
       "<table border=\"1\" class=\"dataframe\">\n",
       "  <thead>\n",
       "    <tr style=\"text-align: right;\">\n",
       "      <th></th>\n",
       "      <th>Heating_days</th>\n",
       "      <th>Cooling_days</th>\n",
       "      <th>TOTROOMS</th>\n",
       "      <th>HEATROOM</th>\n",
       "      <th>ACROOMS</th>\n",
       "      <th>Electricity_usage</th>\n",
       "    </tr>\n",
       "  </thead>\n",
       "  <tbody>\n",
       "    <tr>\n",
       "      <th>0</th>\n",
       "      <td>4953</td>\n",
       "      <td>1271</td>\n",
       "      <td>9</td>\n",
       "      <td>9</td>\n",
       "      <td>9</td>\n",
       "      <td>18466</td>\n",
       "    </tr>\n",
       "    <tr>\n",
       "      <th>1</th>\n",
       "      <td>2688</td>\n",
       "      <td>143</td>\n",
       "      <td>4</td>\n",
       "      <td>4</td>\n",
       "      <td>4</td>\n",
       "      <td>5148</td>\n",
       "    </tr>\n",
       "    <tr>\n",
       "      <th>2</th>\n",
       "      <td>5741</td>\n",
       "      <td>829</td>\n",
       "      <td>2</td>\n",
       "      <td>2</td>\n",
       "      <td>-2</td>\n",
       "      <td>2218</td>\n",
       "    </tr>\n",
       "    <tr>\n",
       "      <th>3</th>\n",
       "      <td>5781</td>\n",
       "      <td>868</td>\n",
       "      <td>7</td>\n",
       "      <td>7</td>\n",
       "      <td>7</td>\n",
       "      <td>10015</td>\n",
       "    </tr>\n",
       "    <tr>\n",
       "      <th>4</th>\n",
       "      <td>5313</td>\n",
       "      <td>797</td>\n",
       "      <td>5</td>\n",
       "      <td>5</td>\n",
       "      <td>-2</td>\n",
       "      <td>2869</td>\n",
       "    </tr>\n",
       "    <tr>\n",
       "      <th>...</th>\n",
       "      <td>...</td>\n",
       "      <td>...</td>\n",
       "      <td>...</td>\n",
       "      <td>...</td>\n",
       "      <td>...</td>\n",
       "      <td>...</td>\n",
       "    </tr>\n",
       "    <tr>\n",
       "      <th>12078</th>\n",
       "      <td>7784</td>\n",
       "      <td>451</td>\n",
       "      <td>6</td>\n",
       "      <td>5</td>\n",
       "      <td>5</td>\n",
       "      <td>7647</td>\n",
       "    </tr>\n",
       "    <tr>\n",
       "      <th>12079</th>\n",
       "      <td>2520</td>\n",
       "      <td>2286</td>\n",
       "      <td>1</td>\n",
       "      <td>1</td>\n",
       "      <td>1</td>\n",
       "      <td>1813</td>\n",
       "    </tr>\n",
       "    <tr>\n",
       "      <th>12080</th>\n",
       "      <td>8074</td>\n",
       "      <td>600</td>\n",
       "      <td>8</td>\n",
       "      <td>8</td>\n",
       "      <td>8</td>\n",
       "      <td>9834</td>\n",
       "    </tr>\n",
       "    <tr>\n",
       "      <th>12081</th>\n",
       "      <td>5989</td>\n",
       "      <td>957</td>\n",
       "      <td>5</td>\n",
       "      <td>5</td>\n",
       "      <td>3</td>\n",
       "      <td>4800</td>\n",
       "    </tr>\n",
       "    <tr>\n",
       "      <th>12082</th>\n",
       "      <td>2859</td>\n",
       "      <td>139</td>\n",
       "      <td>4</td>\n",
       "      <td>4</td>\n",
       "      <td>-2</td>\n",
       "      <td>1764</td>\n",
       "    </tr>\n",
       "  </tbody>\n",
       "</table>\n",
       "<p>12083 rows × 6 columns</p>\n",
       "</div>"
      ],
      "text/plain": [
       "       Heating_days  Cooling_days  TOTROOMS  HEATROOM  ACROOMS  \\\n",
       "0              4953          1271         9         9        9   \n",
       "1              2688           143         4         4        4   \n",
       "2              5741           829         2         2       -2   \n",
       "3              5781           868         7         7        7   \n",
       "4              5313           797         5         5       -2   \n",
       "...             ...           ...       ...       ...      ...   \n",
       "12078          7784           451         6         5        5   \n",
       "12079          2520          2286         1         1        1   \n",
       "12080          8074           600         8         8        8   \n",
       "12081          5989           957         5         5        3   \n",
       "12082          2859           139         4         4       -2   \n",
       "\n",
       "       Electricity_usage  \n",
       "0                  18466  \n",
       "1                   5148  \n",
       "2                   2218  \n",
       "3                  10015  \n",
       "4                   2869  \n",
       "...                  ...  \n",
       "12078               7647  \n",
       "12079               1813  \n",
       "12080               9834  \n",
       "12081               4800  \n",
       "12082               1764  \n",
       "\n",
       "[12083 rows x 6 columns]"
      ]
     },
     "execution_count": 212,
     "metadata": {},
     "output_type": "execute_result"
    }
   ],
   "source": [
    "ndf.drop(\"Total_Cost\", axis = 1, inplace = True)\n",
    "ndf"
   ]
  },
  {
   "cell_type": "code",
   "execution_count": 213,
   "id": "b639dc68",
   "metadata": {},
   "outputs": [],
   "source": [
    "from sklearn.model_selection import train_test_split\n",
    "from sklearn.pipeline import Pipeline\n",
    "from sklearn.impute import SimpleImputer\n",
    "from sklearn.preprocessing import RobustScaler\n",
    "from sklearn.compose import ColumnTransformer\n",
    "from sklearn.metrics import confusion_matrix\n",
    "from sklearn.metrics import accuracy_score\n",
    "from sklearn.metrics import recall_score\n",
    "from sklearn.metrics import precision_score\n",
    "from sklearn.metrics import f1_score\n",
    "import seaborn as sns "
   ]
  },
  {
   "cell_type": "code",
   "execution_count": 214,
   "id": "f17d3058",
   "metadata": {},
   "outputs": [],
   "source": [
    "# Datasplitting\n",
    "cols = ndf.columns\n",
    "\n",
    "X = ndf\n",
    "Y = target\n",
    "\n",
    "X_train, X_test, Y_train, Y_test = train_test_split(X,Y,test_size=0.2,random_state=5)"
   ]
  },
  {
   "cell_type": "code",
   "execution_count": 215,
   "id": "8b85d0bf",
   "metadata": {},
   "outputs": [],
   "source": [
    "transformer = Pipeline(steps=\n",
    "                       [\n",
    "                           ('imputeN',SimpleImputer(strategy='mean')),\n",
    "                           ('scale',RobustScaler())\n",
    "                       ])"
   ]
  },
  {
   "cell_type": "code",
   "execution_count": 216,
   "id": "d7517c87",
   "metadata": {},
   "outputs": [],
   "source": [
    "preprocessing = ColumnTransformer(transformers=\n",
    "                       [\n",
    "                           ('numeric',transformer,cols),\n",
    "    \n",
    "                       ])"
   ]
  },
  {
   "cell_type": "code",
   "execution_count": 217,
   "id": "28eb2c25",
   "metadata": {},
   "outputs": [],
   "source": [
    "from sklearn.tree import DecisionTreeRegressor \n",
    "\n",
    "estimator = DecisionTreeRegressor(criterion=\"friedman_mse\",max_depth=5)"
   ]
  },
  {
   "cell_type": "code",
   "execution_count": 218,
   "id": "6d2404eb",
   "metadata": {},
   "outputs": [],
   "source": [
    "mymodel = Pipeline(steps=\n",
    "                  [\n",
    "                      ('pre',preprocessing),\n",
    "                      ('est',estimator)\n",
    "                  ])"
   ]
  },
  {
   "cell_type": "code",
   "execution_count": 219,
   "id": "eb9b7edf",
   "metadata": {},
   "outputs": [
    {
     "data": {
      "text/html": [
       "<style>#sk-f7e571a1-ec97-4365-bc71-1c24e22762cd {color: black;background-color: white;}#sk-f7e571a1-ec97-4365-bc71-1c24e22762cd pre{padding: 0;}#sk-f7e571a1-ec97-4365-bc71-1c24e22762cd div.sk-toggleable {background-color: white;}#sk-f7e571a1-ec97-4365-bc71-1c24e22762cd label.sk-toggleable__label {cursor: pointer;display: block;width: 100%;margin-bottom: 0;padding: 0.3em;box-sizing: border-box;text-align: center;}#sk-f7e571a1-ec97-4365-bc71-1c24e22762cd label.sk-toggleable__label-arrow:before {content: \"▸\";float: left;margin-right: 0.25em;color: #696969;}#sk-f7e571a1-ec97-4365-bc71-1c24e22762cd label.sk-toggleable__label-arrow:hover:before {color: black;}#sk-f7e571a1-ec97-4365-bc71-1c24e22762cd div.sk-estimator:hover label.sk-toggleable__label-arrow:before {color: black;}#sk-f7e571a1-ec97-4365-bc71-1c24e22762cd div.sk-toggleable__content {max-height: 0;max-width: 0;overflow: hidden;text-align: left;background-color: #f0f8ff;}#sk-f7e571a1-ec97-4365-bc71-1c24e22762cd div.sk-toggleable__content pre {margin: 0.2em;color: black;border-radius: 0.25em;background-color: #f0f8ff;}#sk-f7e571a1-ec97-4365-bc71-1c24e22762cd input.sk-toggleable__control:checked~div.sk-toggleable__content {max-height: 200px;max-width: 100%;overflow: auto;}#sk-f7e571a1-ec97-4365-bc71-1c24e22762cd input.sk-toggleable__control:checked~label.sk-toggleable__label-arrow:before {content: \"▾\";}#sk-f7e571a1-ec97-4365-bc71-1c24e22762cd div.sk-estimator input.sk-toggleable__control:checked~label.sk-toggleable__label {background-color: #d4ebff;}#sk-f7e571a1-ec97-4365-bc71-1c24e22762cd div.sk-label input.sk-toggleable__control:checked~label.sk-toggleable__label {background-color: #d4ebff;}#sk-f7e571a1-ec97-4365-bc71-1c24e22762cd input.sk-hidden--visually {border: 0;clip: rect(1px 1px 1px 1px);clip: rect(1px, 1px, 1px, 1px);height: 1px;margin: -1px;overflow: hidden;padding: 0;position: absolute;width: 1px;}#sk-f7e571a1-ec97-4365-bc71-1c24e22762cd div.sk-estimator {font-family: monospace;background-color: #f0f8ff;border: 1px dotted black;border-radius: 0.25em;box-sizing: border-box;margin-bottom: 0.5em;}#sk-f7e571a1-ec97-4365-bc71-1c24e22762cd div.sk-estimator:hover {background-color: #d4ebff;}#sk-f7e571a1-ec97-4365-bc71-1c24e22762cd div.sk-parallel-item::after {content: \"\";width: 100%;border-bottom: 1px solid gray;flex-grow: 1;}#sk-f7e571a1-ec97-4365-bc71-1c24e22762cd div.sk-label:hover label.sk-toggleable__label {background-color: #d4ebff;}#sk-f7e571a1-ec97-4365-bc71-1c24e22762cd div.sk-serial::before {content: \"\";position: absolute;border-left: 1px solid gray;box-sizing: border-box;top: 2em;bottom: 0;left: 50%;}#sk-f7e571a1-ec97-4365-bc71-1c24e22762cd div.sk-serial {display: flex;flex-direction: column;align-items: center;background-color: white;padding-right: 0.2em;padding-left: 0.2em;}#sk-f7e571a1-ec97-4365-bc71-1c24e22762cd div.sk-item {z-index: 1;}#sk-f7e571a1-ec97-4365-bc71-1c24e22762cd div.sk-parallel {display: flex;align-items: stretch;justify-content: center;background-color: white;}#sk-f7e571a1-ec97-4365-bc71-1c24e22762cd div.sk-parallel::before {content: \"\";position: absolute;border-left: 1px solid gray;box-sizing: border-box;top: 2em;bottom: 0;left: 50%;}#sk-f7e571a1-ec97-4365-bc71-1c24e22762cd div.sk-parallel-item {display: flex;flex-direction: column;position: relative;background-color: white;}#sk-f7e571a1-ec97-4365-bc71-1c24e22762cd div.sk-parallel-item:first-child::after {align-self: flex-end;width: 50%;}#sk-f7e571a1-ec97-4365-bc71-1c24e22762cd div.sk-parallel-item:last-child::after {align-self: flex-start;width: 50%;}#sk-f7e571a1-ec97-4365-bc71-1c24e22762cd div.sk-parallel-item:only-child::after {width: 0;}#sk-f7e571a1-ec97-4365-bc71-1c24e22762cd div.sk-dashed-wrapped {border: 1px dashed gray;margin: 0 0.4em 0.5em 0.4em;box-sizing: border-box;padding-bottom: 0.4em;background-color: white;position: relative;}#sk-f7e571a1-ec97-4365-bc71-1c24e22762cd div.sk-label label {font-family: monospace;font-weight: bold;background-color: white;display: inline-block;line-height: 1.2em;}#sk-f7e571a1-ec97-4365-bc71-1c24e22762cd div.sk-label-container {position: relative;z-index: 2;text-align: center;}#sk-f7e571a1-ec97-4365-bc71-1c24e22762cd div.sk-container {/* jupyter's `normalize.less` sets `[hidden] { display: none; }` but bootstrap.min.css set `[hidden] { display: none !important; }` so we also need the `!important` here to be able to override the default hidden behavior on the sphinx rendered scikit-learn.org. See: https://github.com/scikit-learn/scikit-learn/issues/21755 */display: inline-block !important;position: relative;}#sk-f7e571a1-ec97-4365-bc71-1c24e22762cd div.sk-text-repr-fallback {display: none;}</style><div id=\"sk-f7e571a1-ec97-4365-bc71-1c24e22762cd\" class=\"sk-top-container\"><div class=\"sk-text-repr-fallback\"><pre>Pipeline(steps=[(&#x27;pre&#x27;,\n",
       "                 ColumnTransformer(transformers=[(&#x27;numeric&#x27;,\n",
       "                                                  Pipeline(steps=[(&#x27;imputeN&#x27;,\n",
       "                                                                   SimpleImputer()),\n",
       "                                                                  (&#x27;scale&#x27;,\n",
       "                                                                   RobustScaler())]),\n",
       "                                                  Index([&#x27;Heating_days&#x27;, &#x27;Cooling_days&#x27;, &#x27;TOTROOMS&#x27;, &#x27;HEATROOM&#x27;, &#x27;ACROOMS&#x27;,\n",
       "       &#x27;Electricity_usage&#x27;],\n",
       "      dtype=&#x27;object&#x27;))])),\n",
       "                (&#x27;est&#x27;,\n",
       "                 DecisionTreeRegressor(criterion=&#x27;friedman_mse&#x27;, max_depth=5))])</pre><b>Please rerun this cell to show the HTML repr or trust the notebook.</b></div><div class=\"sk-container\" hidden><div class=\"sk-item sk-dashed-wrapped\"><div class=\"sk-label-container\"><div class=\"sk-label sk-toggleable\"><input class=\"sk-toggleable__control sk-hidden--visually\" id=\"0d09fb30-4d7f-4898-8a16-d51a9d85e4bd\" type=\"checkbox\" ><label for=\"0d09fb30-4d7f-4898-8a16-d51a9d85e4bd\" class=\"sk-toggleable__label sk-toggleable__label-arrow\">Pipeline</label><div class=\"sk-toggleable__content\"><pre>Pipeline(steps=[(&#x27;pre&#x27;,\n",
       "                 ColumnTransformer(transformers=[(&#x27;numeric&#x27;,\n",
       "                                                  Pipeline(steps=[(&#x27;imputeN&#x27;,\n",
       "                                                                   SimpleImputer()),\n",
       "                                                                  (&#x27;scale&#x27;,\n",
       "                                                                   RobustScaler())]),\n",
       "                                                  Index([&#x27;Heating_days&#x27;, &#x27;Cooling_days&#x27;, &#x27;TOTROOMS&#x27;, &#x27;HEATROOM&#x27;, &#x27;ACROOMS&#x27;,\n",
       "       &#x27;Electricity_usage&#x27;],\n",
       "      dtype=&#x27;object&#x27;))])),\n",
       "                (&#x27;est&#x27;,\n",
       "                 DecisionTreeRegressor(criterion=&#x27;friedman_mse&#x27;, max_depth=5))])</pre></div></div></div><div class=\"sk-serial\"><div class=\"sk-item sk-dashed-wrapped\"><div class=\"sk-label-container\"><div class=\"sk-label sk-toggleable\"><input class=\"sk-toggleable__control sk-hidden--visually\" id=\"5f8bf5e9-a45e-4ed7-949b-f582d6ce0a6c\" type=\"checkbox\" ><label for=\"5f8bf5e9-a45e-4ed7-949b-f582d6ce0a6c\" class=\"sk-toggleable__label sk-toggleable__label-arrow\">pre: ColumnTransformer</label><div class=\"sk-toggleable__content\"><pre>ColumnTransformer(transformers=[(&#x27;numeric&#x27;,\n",
       "                                 Pipeline(steps=[(&#x27;imputeN&#x27;, SimpleImputer()),\n",
       "                                                 (&#x27;scale&#x27;, RobustScaler())]),\n",
       "                                 Index([&#x27;Heating_days&#x27;, &#x27;Cooling_days&#x27;, &#x27;TOTROOMS&#x27;, &#x27;HEATROOM&#x27;, &#x27;ACROOMS&#x27;,\n",
       "       &#x27;Electricity_usage&#x27;],\n",
       "      dtype=&#x27;object&#x27;))])</pre></div></div></div><div class=\"sk-parallel\"><div class=\"sk-parallel-item\"><div class=\"sk-item\"><div class=\"sk-label-container\"><div class=\"sk-label sk-toggleable\"><input class=\"sk-toggleable__control sk-hidden--visually\" id=\"32b547d7-9d75-4e7f-9e9b-4bdddd85a94a\" type=\"checkbox\" ><label for=\"32b547d7-9d75-4e7f-9e9b-4bdddd85a94a\" class=\"sk-toggleable__label sk-toggleable__label-arrow\">numeric</label><div class=\"sk-toggleable__content\"><pre>Index([&#x27;Heating_days&#x27;, &#x27;Cooling_days&#x27;, &#x27;TOTROOMS&#x27;, &#x27;HEATROOM&#x27;, &#x27;ACROOMS&#x27;,\n",
       "       &#x27;Electricity_usage&#x27;],\n",
       "      dtype=&#x27;object&#x27;)</pre></div></div></div><div class=\"sk-serial\"><div class=\"sk-item\"><div class=\"sk-serial\"><div class=\"sk-item\"><div class=\"sk-estimator sk-toggleable\"><input class=\"sk-toggleable__control sk-hidden--visually\" id=\"e618857e-751a-4878-8ebb-5622248ce9a7\" type=\"checkbox\" ><label for=\"e618857e-751a-4878-8ebb-5622248ce9a7\" class=\"sk-toggleable__label sk-toggleable__label-arrow\">SimpleImputer</label><div class=\"sk-toggleable__content\"><pre>SimpleImputer()</pre></div></div></div><div class=\"sk-item\"><div class=\"sk-estimator sk-toggleable\"><input class=\"sk-toggleable__control sk-hidden--visually\" id=\"f687c55c-bdd5-4e90-913a-d549f9f30ea5\" type=\"checkbox\" ><label for=\"f687c55c-bdd5-4e90-913a-d549f9f30ea5\" class=\"sk-toggleable__label sk-toggleable__label-arrow\">RobustScaler</label><div class=\"sk-toggleable__content\"><pre>RobustScaler()</pre></div></div></div></div></div></div></div></div></div></div><div class=\"sk-item\"><div class=\"sk-estimator sk-toggleable\"><input class=\"sk-toggleable__control sk-hidden--visually\" id=\"274a2593-580f-4be6-9d8e-796ce65ebbe9\" type=\"checkbox\" ><label for=\"274a2593-580f-4be6-9d8e-796ce65ebbe9\" class=\"sk-toggleable__label sk-toggleable__label-arrow\">DecisionTreeRegressor</label><div class=\"sk-toggleable__content\"><pre>DecisionTreeRegressor(criterion=&#x27;friedman_mse&#x27;, max_depth=5)</pre></div></div></div></div></div></div></div>"
      ],
      "text/plain": [
       "Pipeline(steps=[('pre',\n",
       "                 ColumnTransformer(transformers=[('numeric',\n",
       "                                                  Pipeline(steps=[('imputeN',\n",
       "                                                                   SimpleImputer()),\n",
       "                                                                  ('scale',\n",
       "                                                                   RobustScaler())]),\n",
       "                                                  Index(['Heating_days', 'Cooling_days', 'TOTROOMS', 'HEATROOM', 'ACROOMS',\n",
       "       'Electricity_usage'],\n",
       "      dtype='object'))])),\n",
       "                ('est',\n",
       "                 DecisionTreeRegressor(criterion='friedman_mse', max_depth=5))])"
      ]
     },
     "execution_count": 219,
     "metadata": {},
     "output_type": "execute_result"
    }
   ],
   "source": [
    "from sklearn import set_config\n",
    "set_config(display='diagram')\n",
    "mymodel.fit(X_train,Y_train)"
   ]
  },
  {
   "cell_type": "code",
   "execution_count": 220,
   "id": "d6175c70",
   "metadata": {},
   "outputs": [],
   "source": [
    "Y_pred = mymodel.predict(X_test) "
   ]
  },
  {
   "cell_type": "code",
   "execution_count": 239,
   "id": "2ac39718",
   "metadata": {},
   "outputs": [],
   "source": [
    "ydf = pd.DataFrame(data=[[26,88,143,4,4,4]],columns=['Heating_days', 'Cooling_days', 'TOTROOMS', 'HEATROOM', 'ACROOMS',\n",
    "       'Electricity_usage'])"
   ]
  },
  {
   "cell_type": "code",
   "execution_count": 240,
   "id": "401b050b",
   "metadata": {},
   "outputs": [
    {
     "data": {
      "text/plain": [
       "array([270.9])"
      ]
     },
     "execution_count": 240,
     "metadata": {},
     "output_type": "execute_result"
    }
   ],
   "source": [
    "mymodel.predict(ydf)"
   ]
  },
  {
   "cell_type": "code",
   "execution_count": 223,
   "id": "18bb9513",
   "metadata": {},
   "outputs": [
    {
     "data": {
      "text/plain": [
       "0.8079383767097422"
      ]
     },
     "execution_count": 223,
     "metadata": {},
     "output_type": "execute_result"
    }
   ],
   "source": [
    "mymodel.score(X_train, Y_train)\n"
   ]
  },
  {
   "cell_type": "code",
   "execution_count": 224,
   "id": "52d803bb",
   "metadata": {},
   "outputs": [
    {
     "data": {
      "text/plain": [
       "0.742408968453706"
      ]
     },
     "execution_count": 224,
     "metadata": {},
     "output_type": "execute_result"
    }
   ],
   "source": [
    "mymodel.score(X_test, Y_test)"
   ]
  },
  {
   "cell_type": "markdown",
   "id": "fe215917",
   "metadata": {},
   "source": [
    "## Pickle"
   ]
  },
  {
   "cell_type": "code",
   "execution_count": 225,
   "id": "184e237b",
   "metadata": {},
   "outputs": [],
   "source": [
    "import pickle\n",
    "pickle.dump(mymodel, open('ElectricityBillModel.pkl','wb'))"
   ]
  },
  {
   "cell_type": "code",
   "execution_count": 226,
   "id": "52dca531",
   "metadata": {},
   "outputs": [],
   "source": [
    "electricitybillmodel = pickle.load(open('ElectricityBillModel.pkl','rb'))"
   ]
  },
  {
   "cell_type": "code",
   "execution_count": 227,
   "id": "999e1dcc",
   "metadata": {},
   "outputs": [],
   "source": [
    "electricitybillmodel.score(X_train, Y_train)"
   ]
  },
  {
   "cell_type": "code",
   "execution_count": 228,
   "id": "f39de792",
   "metadata": {},
   "outputs": [],
   "source": [
    "electricitybillmodel.score(X_test, Y_test)"
   ]
  },
  {
   "cell_type": "markdown",
   "id": "62769a80",
   "metadata": {},
   "source": [
    "## Creating joblib\n"
   ]
  },
  {
   "cell_type": "code",
   "execution_count": 229,
   "id": "2ac61b57",
   "metadata": {},
   "outputs": [],
   "source": [
    "from joblib import dump"
   ]
  },
  {
   "cell_type": "code",
   "execution_count": 230,
   "id": "41a6c415",
   "metadata": {},
   "outputs": [
    {
     "data": {
      "text/plain": [
       "['./../savedModels/model.joblib']"
      ]
     },
     "execution_count": 230,
     "metadata": {},
     "output_type": "execute_result"
    }
   ],
   "source": [
    "dump(mymodel, './../savedModels/model.joblib')"
   ]
  },
  {
   "cell_type": "markdown",
   "id": "26cdb961",
   "metadata": {},
   "source": [
    "Model Evaluation"
   ]
  },
  {
   "cell_type": "code",
   "execution_count": 231,
   "id": "0c6a8e42",
   "metadata": {},
   "outputs": [
    {
     "name": "stdout",
     "output_type": "stream",
     "text": [
      "r2_score: 0.7424\n"
     ]
    }
   ],
   "source": [
    "print(f\"r2_score: {np.round(r2_score(Y_test, mymodel.predict(X_test)), 4)}\")"
   ]
  },
  {
   "cell_type": "code",
   "execution_count": 232,
   "id": "9f159bdf",
   "metadata": {},
   "outputs": [
    {
     "data": {
      "text/plain": [
       "Index(['Heating_days', 'Cooling_days', 'TOTROOMS', 'HEATROOM', 'ACROOMS',\n",
       "       'Electricity_usage'],\n",
       "      dtype='object')"
      ]
     },
     "execution_count": 232,
     "metadata": {},
     "output_type": "execute_result"
    }
   ],
   "source": [
    "ndf.columns"
   ]
  },
  {
   "cell_type": "code",
   "execution_count": 233,
   "id": "5a9dfd39",
   "metadata": {},
   "outputs": [],
   "source": [
    "# data =[[100,2,33,4,5,6],[1,200,3,400,5,6],[1,33,3,22,22,2],[1,2,3,4,5,6],[1,2,778,33,5,6],[1,2,55,4,5000,6]]\n",
    "# ydf = pd.DataFrame(data=[[1,2,3,4,8,9]],columns=['Heating_days', 'Cooling_days', 'TOTROOMS', 'HEATROOM', 'ACROOMS',\n",
    "#        'Electricity_usage'])"
   ]
  },
  {
   "cell_type": "code",
   "execution_count": 241,
   "id": "cd0e0eb9",
   "metadata": {},
   "outputs": [],
   "source": [
    "Y_pred = mymodel.predict(X_test)"
   ]
  },
  {
   "cell_type": "code",
   "execution_count": 243,
   "id": "df4625ff",
   "metadata": {},
   "outputs": [
    {
     "data": {
      "text/html": [
       "<div>\n",
       "<style scoped>\n",
       "    .dataframe tbody tr th:only-of-type {\n",
       "        vertical-align: middle;\n",
       "    }\n",
       "\n",
       "    .dataframe tbody tr th {\n",
       "        vertical-align: top;\n",
       "    }\n",
       "\n",
       "    .dataframe thead th {\n",
       "        text-align: right;\n",
       "    }\n",
       "</style>\n",
       "<table border=\"1\" class=\"dataframe\">\n",
       "  <thead>\n",
       "    <tr style=\"text-align: right;\">\n",
       "      <th></th>\n",
       "      <th>Heating_days</th>\n",
       "      <th>Cooling_days</th>\n",
       "      <th>TOTROOMS</th>\n",
       "      <th>HEATROOM</th>\n",
       "      <th>ACROOMS</th>\n",
       "      <th>Electricity_usage</th>\n",
       "    </tr>\n",
       "  </thead>\n",
       "  <tbody>\n",
       "    <tr>\n",
       "      <th>10967</th>\n",
       "      <td>6515</td>\n",
       "      <td>514</td>\n",
       "      <td>3</td>\n",
       "      <td>3</td>\n",
       "      <td>-2</td>\n",
       "      <td>2545</td>\n",
       "    </tr>\n",
       "    <tr>\n",
       "      <th>7556</th>\n",
       "      <td>7610</td>\n",
       "      <td>381</td>\n",
       "      <td>8</td>\n",
       "      <td>8</td>\n",
       "      <td>-2</td>\n",
       "      <td>13080</td>\n",
       "    </tr>\n",
       "    <tr>\n",
       "      <th>3362</th>\n",
       "      <td>9714</td>\n",
       "      <td>0</td>\n",
       "      <td>8</td>\n",
       "      <td>8</td>\n",
       "      <td>-2</td>\n",
       "      <td>6729</td>\n",
       "    </tr>\n",
       "    <tr>\n",
       "      <th>1995</th>\n",
       "      <td>2800</td>\n",
       "      <td>1860</td>\n",
       "      <td>7</td>\n",
       "      <td>4</td>\n",
       "      <td>4</td>\n",
       "      <td>4289</td>\n",
       "    </tr>\n",
       "    <tr>\n",
       "      <th>6741</th>\n",
       "      <td>2148</td>\n",
       "      <td>2834</td>\n",
       "      <td>8</td>\n",
       "      <td>8</td>\n",
       "      <td>8</td>\n",
       "      <td>17285</td>\n",
       "    </tr>\n",
       "    <tr>\n",
       "      <th>...</th>\n",
       "      <td>...</td>\n",
       "      <td>...</td>\n",
       "      <td>...</td>\n",
       "      <td>...</td>\n",
       "      <td>...</td>\n",
       "      <td>...</td>\n",
       "    </tr>\n",
       "    <tr>\n",
       "      <th>199</th>\n",
       "      <td>4743</td>\n",
       "      <td>1188</td>\n",
       "      <td>5</td>\n",
       "      <td>5</td>\n",
       "      <td>-2</td>\n",
       "      <td>1959</td>\n",
       "    </tr>\n",
       "    <tr>\n",
       "      <th>5976</th>\n",
       "      <td>1468</td>\n",
       "      <td>1662</td>\n",
       "      <td>5</td>\n",
       "      <td>5</td>\n",
       "      <td>5</td>\n",
       "      <td>6323</td>\n",
       "    </tr>\n",
       "    <tr>\n",
       "      <th>446</th>\n",
       "      <td>514</td>\n",
       "      <td>3672</td>\n",
       "      <td>6</td>\n",
       "      <td>6</td>\n",
       "      <td>6</td>\n",
       "      <td>14133</td>\n",
       "    </tr>\n",
       "    <tr>\n",
       "      <th>7443</th>\n",
       "      <td>3377</td>\n",
       "      <td>1374</td>\n",
       "      <td>6</td>\n",
       "      <td>6</td>\n",
       "      <td>6</td>\n",
       "      <td>18362</td>\n",
       "    </tr>\n",
       "    <tr>\n",
       "      <th>10137</th>\n",
       "      <td>4439</td>\n",
       "      <td>1063</td>\n",
       "      <td>5</td>\n",
       "      <td>5</td>\n",
       "      <td>-2</td>\n",
       "      <td>9768</td>\n",
       "    </tr>\n",
       "  </tbody>\n",
       "</table>\n",
       "<p>2417 rows × 6 columns</p>\n",
       "</div>"
      ],
      "text/plain": [
       "       Heating_days  Cooling_days  TOTROOMS  HEATROOM  ACROOMS  \\\n",
       "10967          6515           514         3         3       -2   \n",
       "7556           7610           381         8         8       -2   \n",
       "3362           9714             0         8         8       -2   \n",
       "1995           2800          1860         7         4        4   \n",
       "6741           2148          2834         8         8        8   \n",
       "...             ...           ...       ...       ...      ...   \n",
       "199            4743          1188         5         5       -2   \n",
       "5976           1468          1662         5         5        5   \n",
       "446             514          3672         6         6        6   \n",
       "7443           3377          1374         6         6        6   \n",
       "10137          4439          1063         5         5       -2   \n",
       "\n",
       "       Electricity_usage  \n",
       "10967               2545  \n",
       "7556               13080  \n",
       "3362                6729  \n",
       "1995                4289  \n",
       "6741               17285  \n",
       "...                  ...  \n",
       "199                 1959  \n",
       "5976                6323  \n",
       "446                14133  \n",
       "7443               18362  \n",
       "10137               9768  \n",
       "\n",
       "[2417 rows x 6 columns]"
      ]
     },
     "execution_count": 243,
     "metadata": {},
     "output_type": "execute_result"
    }
   ],
   "source": [
    "\n",
    "X_test"
   ]
  },
  {
   "cell_type": "code",
   "execution_count": 242,
   "id": "fdc9bf6b",
   "metadata": {},
   "outputs": [
    {
     "data": {
      "text/plain": [
       "array([ 391.14946619, 1505.94921191,  912.30492424, ..., 1923.4075    ,\n",
       "       1885.82210243, 1197.18543607])"
      ]
     },
     "execution_count": 242,
     "metadata": {},
     "output_type": "execute_result"
    }
   ],
   "source": [
    "Y_pred"
   ]
  },
  {
   "cell_type": "code",
   "execution_count": null,
   "id": "6b7249db",
   "metadata": {},
   "outputs": [],
   "source": []
  },
  {
   "cell_type": "code",
   "execution_count": null,
   "id": "cb09b95c",
   "metadata": {},
   "outputs": [],
   "source": []
  }
 ],
 "metadata": {
  "kernelspec": {
   "display_name": "Python 3 (ipykernel)",
   "language": "python",
   "name": "python3"
  },
  "language_info": {
   "codemirror_mode": {
    "name": "ipython",
    "version": 3
   },
   "file_extension": ".py",
   "mimetype": "text/x-python",
   "name": "python",
   "nbconvert_exporter": "python",
   "pygments_lexer": "ipython3",
   "version": "3.9.12"
  },
  "vscode": {
   "interpreter": {
    "hash": "c1d1e410f051db327d77465dba01db2f4dc80174ab225d06c06cff04bb5fbdc6"
   }
  }
 },
 "nbformat": 4,
 "nbformat_minor": 5
}
